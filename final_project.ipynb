{
  "cells": [
    {
      "cell_type": "markdown",
      "metadata": {
        "id": "bK-_2Ya4NoVT"
      },
      "source": [
        "# 🤖**AI and ML Job Market Trends**\n"
      ]
    },
    {
      "cell_type": "markdown",
      "metadata": {
        "id": "vOLXTMCCNoVU"
      },
      "source": [
        "## **Phase 1: Getting to Know Our Data 🤔**"
      ]
    },
    {
      "cell_type": "markdown",
      "metadata": {
        "id": "o-H2PEZdOc4u"
      },
      "source": [
        "### 1.1 Our Data\n",
        "1. **Salary Dataframe**\n",
        "    \n",
        "  *Unit of analysis:* Each row represents a single salaried job record with details on compensation, location, company size, and employment context.\n",
        "  \n",
        "  *Source:* Kaggle CSV (Comma Separated Values, *Structured*)\n",
        "\n",
        "2. **Job Postings Dataframe**\n",
        "\n",
        "  *Unit of analysis:* Each row represents an individual job posting scraped from LinkedIn, including metadata like title, company, location, and job level.\n",
        "\n",
        "  *Source:* Kaggle CSV\n",
        "\n",
        "3. **Job Skills Dataframe**\n",
        "\n",
        "  *Unit of analysis:* Each row represents the set of skills associated with a specific job posting, identified by its unique job link.\n",
        "\n",
        "  *Source:* Kaggle CSV\n",
        "\n",
        "4. **Job Summary Dataframe**\n",
        "\n",
        "  *Unit of analysis:* Each row contains the textual job summary or description for a specific job posting.\n",
        "\n",
        "  **Source:** Kaggle CSV\n",
        "  \n",
        "5. **Final Merged Final DataFrame**\n",
        "\n",
        "  *Unit of analysis:* Each row represents a unique enriched job posting with merged information on title, company, location, experience level, required skills, estimated salary, and descriptive summary."
      ]
    },
    {
      "cell_type": "markdown",
      "metadata": {
        "id": "gNz0eJ-nQ5wK"
      },
      "source": [
        "### 1.2 Constraints of Our Data\n",
        "*Fuzzy Matching of Job Titles Introduces Inexact Merges*\n",
        "\n",
        "We used `thefuzz` to match job titles from the salary data with those in the job postings, because exact string matches were inconsistent (e.g., \"Senior Machine Learning Engineer\" vs. \"Sr ML Eng\"). This approach introduces some subjectivity and the possibility of mismatched titles, especially with close or generic names, so some postings may be incorrectly paired with salaries or omitted due to low match confidence.\n",
        "\n",
        "*Filtering Out Executive-Level Roles*\n",
        "\n",
        "Due to low volume of data, we dropped jobs with `experience_level == \"EX\"` from the salary dataset, which narrows your scope to non-executive roles, potentially excluding high-paying outliers our overall salary bracket thresholds.\n",
        "\n",
        "*Incomplete or Missing Data Across DataFrames*\n",
        "\n",
        "While merging the multiple job-related CSVs, we joined on job_link. If any job lacks skills or a summary, the final merged dataset will have missing data, potentially reducing the usable sample size or biasing our analysis toward jobs with complete metadata.\n"
      ]
    },
    {
      "cell_type": "markdown",
      "metadata": {
        "id": "qhkOvPz3Snic"
      },
      "source": [
        "### 1.3 Packages Used\n",
        "Our project utilizes a variety of Python packages, each serving a specific role in the data analysis pipeline:\n",
        "\n",
        "`pandas`\n",
        "\n",
        "  Used for loading, cleaning, transforming, and merging datasets. It provided flexible DataFrame structures for manipulation of our structured tabular data.\n",
        "\n",
        "`numpy`\n",
        "  \n",
        "  Supported numerical operations and was used in conjunction with pandas for array-level computations and generating numeric data (e.g., salary brackets).\n",
        "\n",
        "`thefuzz`\n",
        "    \n",
        "  This package enabled fuzzy string matching, which was essential for reconciling job titles across datasets that used inconsistent naming conventions. It allowed us to merge salary data with job postings where direct string matches failed.\n",
        "\n",
        "`seaborn` (Advanced Topic Package)\n",
        "    \n",
        "  Used for high-level statistical data visualizations. Seaborn builds on matplotlib and makes it easy to produce clean, informative visualizations like bar plots, correlation heatmaps, and scatterplots for trend analysis.\n",
        "\n",
        "`matplotlib.pyplot`\n",
        "    \n",
        "  Powered the underlying plotting engine for seaborn and also used for fine-tuning our figures.\n",
        "\n",
        "`scipy.stats`\n",
        "    \n",
        "  Provided statistical functions, including the independent t-test used to assess salary differences between experience levels.\n",
        "\n",
        "`warnings`\n",
        "    \n",
        "  Used to suppress unnecessary warnings during runtime."
      ]
    },
    {
      "cell_type": "markdown",
      "metadata": {
        "id": "t1jzW-OZUiDm"
      },
      "source": [
        "### **Phase 2: Data Acquisition and Cleaning Code 🧹**"
      ]
    },
    {
      "cell_type": "markdown",
      "metadata": {
        "id": "p8EkSeFH5jrn"
      },
      "source": [
        "#### **📥 Data Acquisition**"
      ]
    },
    {
      "cell_type": "code",
      "execution_count": 1,
      "metadata": {
        "colab": {
          "base_uri": "https://localhost:8080/"
        },
        "id": "moTVl2etN8tE",
        "outputId": "f27a0eb0-7053-4e5d-bece-d0dd459bd6ba"
      },
      "outputs": [
        {
          "name": "stdout",
          "output_type": "stream",
          "text": [
            "zsh:1: no matches found: thefuzz[speedup]\n"
          ]
        }
      ],
      "source": [
        "!pip install thefuzz[speedup]"
      ]
    },
    {
      "cell_type": "code",
      "execution_count": 2,
      "metadata": {
        "id": "Wt8Nj16SNoVU"
      },
      "outputs": [],
      "source": [
        "# Importing necessary libraries\n",
        "import pandas as pd\n",
        "from thefuzz import process, fuzz"
      ]
    },
    {
      "cell_type": "code",
      "execution_count": 3,
      "metadata": {
        "id": "FNmrZ0RFNoVV"
      },
      "outputs": [],
      "source": [
        "# Loading the dataset\n",
        "salaries_df = pd.read_csv(\"Data/salaries.csv\")\n",
        "postings_df = pd.read_csv(\"Data/job_postings.csv\")\n",
        "skills_df = pd.read_csv(\"Data/job_skills.csv\")\n",
        "job_summary_df = pd.read_csv(\"Data/job_summary.csv\")"
      ]
    },
    {
      "cell_type": "code",
      "execution_count": 4,
      "metadata": {
        "colab": {
          "base_uri": "https://localhost:8080/",
          "height": 365
        },
        "id": "xMFIiPOhNoVV",
        "outputId": "8a280adc-f49e-484d-97e5-b8202d403673"
      },
      "outputs": [
        {
          "data": {
            "text/html": [
              "<div>\n",
              "<style scoped>\n",
              "    .dataframe tbody tr th:only-of-type {\n",
              "        vertical-align: middle;\n",
              "    }\n",
              "\n",
              "    .dataframe tbody tr th {\n",
              "        vertical-align: top;\n",
              "    }\n",
              "\n",
              "    .dataframe thead th {\n",
              "        text-align: right;\n",
              "    }\n",
              "</style>\n",
              "<table border=\"1\" class=\"dataframe\">\n",
              "  <thead>\n",
              "    <tr style=\"text-align: right;\">\n",
              "      <th></th>\n",
              "      <th>work_year</th>\n",
              "      <th>experience_level</th>\n",
              "      <th>employment_type</th>\n",
              "      <th>job_title</th>\n",
              "      <th>salary</th>\n",
              "      <th>salary_currency</th>\n",
              "      <th>salary_in_usd</th>\n",
              "      <th>employee_residence</th>\n",
              "      <th>remote_ratio</th>\n",
              "      <th>company_location</th>\n",
              "      <th>company_size</th>\n",
              "    </tr>\n",
              "  </thead>\n",
              "  <tbody>\n",
              "    <tr>\n",
              "      <th>0</th>\n",
              "      <td>2025</td>\n",
              "      <td>SE</td>\n",
              "      <td>FT</td>\n",
              "      <td>Data Product Owner</td>\n",
              "      <td>170000</td>\n",
              "      <td>USD</td>\n",
              "      <td>170000</td>\n",
              "      <td>US</td>\n",
              "      <td>0</td>\n",
              "      <td>US</td>\n",
              "      <td>M</td>\n",
              "    </tr>\n",
              "    <tr>\n",
              "      <th>1</th>\n",
              "      <td>2025</td>\n",
              "      <td>SE</td>\n",
              "      <td>FT</td>\n",
              "      <td>Data Product Owner</td>\n",
              "      <td>110000</td>\n",
              "      <td>USD</td>\n",
              "      <td>110000</td>\n",
              "      <td>US</td>\n",
              "      <td>0</td>\n",
              "      <td>US</td>\n",
              "      <td>M</td>\n",
              "    </tr>\n",
              "    <tr>\n",
              "      <th>2</th>\n",
              "      <td>2025</td>\n",
              "      <td>SE</td>\n",
              "      <td>FT</td>\n",
              "      <td>Data Product Owner</td>\n",
              "      <td>170000</td>\n",
              "      <td>USD</td>\n",
              "      <td>170000</td>\n",
              "      <td>US</td>\n",
              "      <td>0</td>\n",
              "      <td>US</td>\n",
              "      <td>M</td>\n",
              "    </tr>\n",
              "    <tr>\n",
              "      <th>3</th>\n",
              "      <td>2025</td>\n",
              "      <td>SE</td>\n",
              "      <td>FT</td>\n",
              "      <td>Data Product Owner</td>\n",
              "      <td>110000</td>\n",
              "      <td>USD</td>\n",
              "      <td>110000</td>\n",
              "      <td>US</td>\n",
              "      <td>0</td>\n",
              "      <td>US</td>\n",
              "      <td>M</td>\n",
              "    </tr>\n",
              "    <tr>\n",
              "      <th>4</th>\n",
              "      <td>2025</td>\n",
              "      <td>SE</td>\n",
              "      <td>FT</td>\n",
              "      <td>Engineer</td>\n",
              "      <td>143000</td>\n",
              "      <td>USD</td>\n",
              "      <td>143000</td>\n",
              "      <td>US</td>\n",
              "      <td>0</td>\n",
              "      <td>US</td>\n",
              "      <td>M</td>\n",
              "    </tr>\n",
              "  </tbody>\n",
              "</table>\n",
              "</div>"
            ],
            "text/plain": [
              "   work_year experience_level employment_type           job_title  salary  \\\n",
              "0       2025               SE              FT  Data Product Owner  170000   \n",
              "1       2025               SE              FT  Data Product Owner  110000   \n",
              "2       2025               SE              FT  Data Product Owner  170000   \n",
              "3       2025               SE              FT  Data Product Owner  110000   \n",
              "4       2025               SE              FT            Engineer  143000   \n",
              "\n",
              "  salary_currency  salary_in_usd employee_residence  remote_ratio  \\\n",
              "0             USD         170000                 US             0   \n",
              "1             USD         110000                 US             0   \n",
              "2             USD         170000                 US             0   \n",
              "3             USD         110000                 US             0   \n",
              "4             USD         143000                 US             0   \n",
              "\n",
              "  company_location company_size  \n",
              "0               US            M  \n",
              "1               US            M  \n",
              "2               US            M  \n",
              "3               US            M  \n",
              "4               US            M  "
            ]
          },
          "execution_count": 4,
          "metadata": {},
          "output_type": "execute_result"
        }
      ],
      "source": [
        "salaries_df.head()"
      ]
    },
    {
      "cell_type": "code",
      "execution_count": 5,
      "metadata": {
        "colab": {
          "base_uri": "https://localhost:8080/",
          "height": 469
        },
        "id": "PUkJcUtONoVW",
        "outputId": "9983145e-3801-43b1-aed2-30348ee38464"
      },
      "outputs": [
        {
          "data": {
            "text/html": [
              "<div>\n",
              "<style scoped>\n",
              "    .dataframe tbody tr th:only-of-type {\n",
              "        vertical-align: middle;\n",
              "    }\n",
              "\n",
              "    .dataframe tbody tr th {\n",
              "        vertical-align: top;\n",
              "    }\n",
              "\n",
              "    .dataframe thead th {\n",
              "        text-align: right;\n",
              "    }\n",
              "</style>\n",
              "<table border=\"1\" class=\"dataframe\">\n",
              "  <thead>\n",
              "    <tr style=\"text-align: right;\">\n",
              "      <th></th>\n",
              "      <th>job_link</th>\n",
              "      <th>last_processed_time</th>\n",
              "      <th>last_status</th>\n",
              "      <th>got_summary</th>\n",
              "      <th>got_ner</th>\n",
              "      <th>is_being_worked</th>\n",
              "      <th>job_title</th>\n",
              "      <th>company</th>\n",
              "      <th>job_location</th>\n",
              "      <th>first_seen</th>\n",
              "      <th>search_city</th>\n",
              "      <th>search_country</th>\n",
              "      <th>search_position</th>\n",
              "      <th>job_level</th>\n",
              "      <th>job_type</th>\n",
              "    </tr>\n",
              "  </thead>\n",
              "  <tbody>\n",
              "    <tr>\n",
              "      <th>0</th>\n",
              "      <td>https://www.linkedin.com/jobs/view/senior-mach...</td>\n",
              "      <td>2024-01-21 08:08:48.031964+00</td>\n",
              "      <td>Finished NER</td>\n",
              "      <td>t</td>\n",
              "      <td>t</td>\n",
              "      <td>f</td>\n",
              "      <td>Senior Machine Learning Engineer</td>\n",
              "      <td>Jobs for Humanity</td>\n",
              "      <td>New Haven, CT</td>\n",
              "      <td>2024-01-14</td>\n",
              "      <td>East Haven</td>\n",
              "      <td>United States</td>\n",
              "      <td>Agricultural-Research Engineer</td>\n",
              "      <td>Mid senior</td>\n",
              "      <td>Onsite</td>\n",
              "    </tr>\n",
              "    <tr>\n",
              "      <th>1</th>\n",
              "      <td>https://www.linkedin.com/jobs/view/principal-s...</td>\n",
              "      <td>2024-01-20 04:02:12.331406+00</td>\n",
              "      <td>Finished NER</td>\n",
              "      <td>t</td>\n",
              "      <td>t</td>\n",
              "      <td>f</td>\n",
              "      <td>Principal Software Engineer, ML Accelerators</td>\n",
              "      <td>Aurora</td>\n",
              "      <td>San Francisco, CA</td>\n",
              "      <td>2024-01-14</td>\n",
              "      <td>El Cerrito</td>\n",
              "      <td>United States</td>\n",
              "      <td>Set-Key Driver</td>\n",
              "      <td>Mid senior</td>\n",
              "      <td>Onsite</td>\n",
              "    </tr>\n",
              "    <tr>\n",
              "      <th>2</th>\n",
              "      <td>https://www.linkedin.com/jobs/view/senior-etl-...</td>\n",
              "      <td>2024-01-21 08:08:31.941595+00</td>\n",
              "      <td>Finished NER</td>\n",
              "      <td>t</td>\n",
              "      <td>t</td>\n",
              "      <td>f</td>\n",
              "      <td>Senior ETL Data Warehouse Specialist</td>\n",
              "      <td>Adame Services LLC</td>\n",
              "      <td>New York, NY</td>\n",
              "      <td>2024-01-14</td>\n",
              "      <td>Middletown</td>\n",
              "      <td>United States</td>\n",
              "      <td>Technical Support Specialist</td>\n",
              "      <td>Associate</td>\n",
              "      <td>Onsite</td>\n",
              "    </tr>\n",
              "    <tr>\n",
              "      <th>3</th>\n",
              "      <td>https://www.linkedin.com/jobs/view/senior-data...</td>\n",
              "      <td>2024-01-20 15:30:55.796572+00</td>\n",
              "      <td>Finished NER</td>\n",
              "      <td>t</td>\n",
              "      <td>t</td>\n",
              "      <td>f</td>\n",
              "      <td>Senior Data Warehouse Developer / Architect</td>\n",
              "      <td>Morph Enterprise</td>\n",
              "      <td>Harrisburg, PA</td>\n",
              "      <td>2024-01-12</td>\n",
              "      <td>Lebanon</td>\n",
              "      <td>United States</td>\n",
              "      <td>Architect</td>\n",
              "      <td>Mid senior</td>\n",
              "      <td>Onsite</td>\n",
              "    </tr>\n",
              "    <tr>\n",
              "      <th>4</th>\n",
              "      <td>https://www.linkedin.com/jobs/view/lead-data-e...</td>\n",
              "      <td>2024-01-21 08:08:58.312124+00</td>\n",
              "      <td>Finished NER</td>\n",
              "      <td>t</td>\n",
              "      <td>t</td>\n",
              "      <td>f</td>\n",
              "      <td>Lead Data Engineer</td>\n",
              "      <td>Dice</td>\n",
              "      <td>Plano, TX</td>\n",
              "      <td>2024-01-14</td>\n",
              "      <td>McKinney</td>\n",
              "      <td>United States</td>\n",
              "      <td>Maintenance Data Analyst</td>\n",
              "      <td>Mid senior</td>\n",
              "      <td>Onsite</td>\n",
              "    </tr>\n",
              "  </tbody>\n",
              "</table>\n",
              "</div>"
            ],
            "text/plain": [
              "                                            job_link  \\\n",
              "0  https://www.linkedin.com/jobs/view/senior-mach...   \n",
              "1  https://www.linkedin.com/jobs/view/principal-s...   \n",
              "2  https://www.linkedin.com/jobs/view/senior-etl-...   \n",
              "3  https://www.linkedin.com/jobs/view/senior-data...   \n",
              "4  https://www.linkedin.com/jobs/view/lead-data-e...   \n",
              "\n",
              "             last_processed_time   last_status got_summary got_ner  \\\n",
              "0  2024-01-21 08:08:48.031964+00  Finished NER           t       t   \n",
              "1  2024-01-20 04:02:12.331406+00  Finished NER           t       t   \n",
              "2  2024-01-21 08:08:31.941595+00  Finished NER           t       t   \n",
              "3  2024-01-20 15:30:55.796572+00  Finished NER           t       t   \n",
              "4  2024-01-21 08:08:58.312124+00  Finished NER           t       t   \n",
              "\n",
              "  is_being_worked                                     job_title  \\\n",
              "0               f              Senior Machine Learning Engineer   \n",
              "1               f  Principal Software Engineer, ML Accelerators   \n",
              "2               f          Senior ETL Data Warehouse Specialist   \n",
              "3               f   Senior Data Warehouse Developer / Architect   \n",
              "4               f                            Lead Data Engineer   \n",
              "\n",
              "              company       job_location  first_seen search_city  \\\n",
              "0   Jobs for Humanity      New Haven, CT  2024-01-14  East Haven   \n",
              "1              Aurora  San Francisco, CA  2024-01-14  El Cerrito   \n",
              "2  Adame Services LLC       New York, NY  2024-01-14  Middletown   \n",
              "3    Morph Enterprise     Harrisburg, PA  2024-01-12     Lebanon   \n",
              "4                Dice          Plano, TX  2024-01-14    McKinney   \n",
              "\n",
              "  search_country                 search_position   job_level job_type  \n",
              "0  United States  Agricultural-Research Engineer  Mid senior   Onsite  \n",
              "1  United States                  Set-Key Driver  Mid senior   Onsite  \n",
              "2  United States    Technical Support Specialist   Associate   Onsite  \n",
              "3  United States                       Architect  Mid senior   Onsite  \n",
              "4  United States        Maintenance Data Analyst  Mid senior   Onsite  "
            ]
          },
          "execution_count": 5,
          "metadata": {},
          "output_type": "execute_result"
        }
      ],
      "source": [
        "postings_df.head()"
      ]
    },
    {
      "cell_type": "code",
      "execution_count": 6,
      "metadata": {
        "colab": {
          "base_uri": "https://localhost:8080/",
          "height": 206
        },
        "id": "TsQTWjcHNoVW",
        "outputId": "738231f6-b1ec-46c7-c9be-bee46754b19d"
      },
      "outputs": [
        {
          "data": {
            "text/html": [
              "<div>\n",
              "<style scoped>\n",
              "    .dataframe tbody tr th:only-of-type {\n",
              "        vertical-align: middle;\n",
              "    }\n",
              "\n",
              "    .dataframe tbody tr th {\n",
              "        vertical-align: top;\n",
              "    }\n",
              "\n",
              "    .dataframe thead th {\n",
              "        text-align: right;\n",
              "    }\n",
              "</style>\n",
              "<table border=\"1\" class=\"dataframe\">\n",
              "  <thead>\n",
              "    <tr style=\"text-align: right;\">\n",
              "      <th></th>\n",
              "      <th>job_link</th>\n",
              "      <th>job_skills</th>\n",
              "    </tr>\n",
              "  </thead>\n",
              "  <tbody>\n",
              "    <tr>\n",
              "      <th>0</th>\n",
              "      <td>https://www.linkedin.com/jobs/view/senior-mach...</td>\n",
              "      <td>Machine Learning, Programming, Python, Scala, ...</td>\n",
              "    </tr>\n",
              "    <tr>\n",
              "      <th>1</th>\n",
              "      <td>https://www.linkedin.com/jobs/view/principal-s...</td>\n",
              "      <td>C++, Python, PyTorch, TensorFlow, MXNet, CUDA,...</td>\n",
              "    </tr>\n",
              "    <tr>\n",
              "      <th>2</th>\n",
              "      <td>https://www.linkedin.com/jobs/view/senior-etl-...</td>\n",
              "      <td>ETL, Data Integration, Data Transformation, Da...</td>\n",
              "    </tr>\n",
              "    <tr>\n",
              "      <th>3</th>\n",
              "      <td>https://www.linkedin.com/jobs/view/senior-data...</td>\n",
              "      <td>Data Lakes, Data Bricks, Azure Data Factory Pi...</td>\n",
              "    </tr>\n",
              "    <tr>\n",
              "      <th>4</th>\n",
              "      <td>https://www.linkedin.com/jobs/view/lead-data-e...</td>\n",
              "      <td>Java, Scala, Python, RDBMS, NoSQL, Redshift, S...</td>\n",
              "    </tr>\n",
              "  </tbody>\n",
              "</table>\n",
              "</div>"
            ],
            "text/plain": [
              "                                            job_link  \\\n",
              "0  https://www.linkedin.com/jobs/view/senior-mach...   \n",
              "1  https://www.linkedin.com/jobs/view/principal-s...   \n",
              "2  https://www.linkedin.com/jobs/view/senior-etl-...   \n",
              "3  https://www.linkedin.com/jobs/view/senior-data...   \n",
              "4  https://www.linkedin.com/jobs/view/lead-data-e...   \n",
              "\n",
              "                                          job_skills  \n",
              "0  Machine Learning, Programming, Python, Scala, ...  \n",
              "1  C++, Python, PyTorch, TensorFlow, MXNet, CUDA,...  \n",
              "2  ETL, Data Integration, Data Transformation, Da...  \n",
              "3  Data Lakes, Data Bricks, Azure Data Factory Pi...  \n",
              "4  Java, Scala, Python, RDBMS, NoSQL, Redshift, S...  "
            ]
          },
          "execution_count": 6,
          "metadata": {},
          "output_type": "execute_result"
        }
      ],
      "source": [
        "skills_df.head()"
      ]
    },
    {
      "cell_type": "code",
      "execution_count": 7,
      "metadata": {
        "colab": {
          "base_uri": "https://localhost:8080/",
          "height": 206
        },
        "id": "lhPi5qTxNoVW",
        "outputId": "da38c757-d1b7-460c-a3d4-b552929132af"
      },
      "outputs": [
        {
          "data": {
            "text/html": [
              "<div>\n",
              "<style scoped>\n",
              "    .dataframe tbody tr th:only-of-type {\n",
              "        vertical-align: middle;\n",
              "    }\n",
              "\n",
              "    .dataframe tbody tr th {\n",
              "        vertical-align: top;\n",
              "    }\n",
              "\n",
              "    .dataframe thead th {\n",
              "        text-align: right;\n",
              "    }\n",
              "</style>\n",
              "<table border=\"1\" class=\"dataframe\">\n",
              "  <thead>\n",
              "    <tr style=\"text-align: right;\">\n",
              "      <th></th>\n",
              "      <th>job_link</th>\n",
              "      <th>job_summary</th>\n",
              "    </tr>\n",
              "  </thead>\n",
              "  <tbody>\n",
              "    <tr>\n",
              "      <th>0</th>\n",
              "      <td>https://www.linkedin.com/jobs/view/senior-mach...</td>\n",
              "      <td>Company Description\\nJobs for Humanity is part...</td>\n",
              "    </tr>\n",
              "    <tr>\n",
              "      <th>1</th>\n",
              "      <td>https://www.linkedin.com/jobs/view/principal-s...</td>\n",
              "      <td>Who We Are\\nAurora (Nasdaq: AUR) is delivering...</td>\n",
              "    </tr>\n",
              "    <tr>\n",
              "      <th>2</th>\n",
              "      <td>https://www.linkedin.com/jobs/view/senior-etl-...</td>\n",
              "      <td>Location: New York City, NY\\nPosition Summary\\...</td>\n",
              "    </tr>\n",
              "    <tr>\n",
              "      <th>3</th>\n",
              "      <td>https://www.linkedin.com/jobs/view/senior-data...</td>\n",
              "      <td>Responsibilities:\\nCandidate must have signifi...</td>\n",
              "    </tr>\n",
              "    <tr>\n",
              "      <th>4</th>\n",
              "      <td>https://www.linkedin.com/jobs/view/lead-data-e...</td>\n",
              "      <td>Dice is the leading career destination for tec...</td>\n",
              "    </tr>\n",
              "  </tbody>\n",
              "</table>\n",
              "</div>"
            ],
            "text/plain": [
              "                                            job_link  \\\n",
              "0  https://www.linkedin.com/jobs/view/senior-mach...   \n",
              "1  https://www.linkedin.com/jobs/view/principal-s...   \n",
              "2  https://www.linkedin.com/jobs/view/senior-etl-...   \n",
              "3  https://www.linkedin.com/jobs/view/senior-data...   \n",
              "4  https://www.linkedin.com/jobs/view/lead-data-e...   \n",
              "\n",
              "                                         job_summary  \n",
              "0  Company Description\\nJobs for Humanity is part...  \n",
              "1  Who We Are\\nAurora (Nasdaq: AUR) is delivering...  \n",
              "2  Location: New York City, NY\\nPosition Summary\\...  \n",
              "3  Responsibilities:\\nCandidate must have signifi...  \n",
              "4  Dice is the leading career destination for tec...  "
            ]
          },
          "execution_count": 7,
          "metadata": {},
          "output_type": "execute_result"
        }
      ],
      "source": [
        "job_summary_df.head()"
      ]
    },
    {
      "cell_type": "code",
      "execution_count": 8,
      "metadata": {
        "colab": {
          "base_uri": "https://localhost:8080/"
        },
        "id": "-9kKfZLeNoVX",
        "outputId": "5d7ab590-e000-48b0-d458-c63ccf998b57"
      },
      "outputs": [
        {
          "data": {
            "text/plain": [
              "(array(['Mid senior', 'Associate'], dtype=object),\n",
              " array(['SE', 'EN', 'MI', 'EX'], dtype=object))"
            ]
          },
          "execution_count": 8,
          "metadata": {},
          "output_type": "execute_result"
        }
      ],
      "source": [
        "postings_df['job_level'].unique(), salaries_df['experience_level'].unique()"
      ]
    },
    {
      "cell_type": "code",
      "execution_count": 9,
      "metadata": {
        "id": "fRyxvuL8NoVX"
      },
      "outputs": [],
      "source": [
        "# Merge job postings with skills\n",
        "merged = postings_df.merge(skills_df, on='job_link', how='left')\n",
        "\n",
        "# Merge with summaries\n",
        "merged = merged.merge(job_summary_df, on='job_link', how='left')"
      ]
    },
    {
      "cell_type": "code",
      "execution_count": 10,
      "metadata": {
        "colab": {
          "base_uri": "https://localhost:8080/",
          "height": 556
        },
        "id": "pDpI-slcNoVX",
        "outputId": "a3759cff-1f75-4869-87bf-caa28592306d"
      },
      "outputs": [
        {
          "data": {
            "text/html": [
              "<div>\n",
              "<style scoped>\n",
              "    .dataframe tbody tr th:only-of-type {\n",
              "        vertical-align: middle;\n",
              "    }\n",
              "\n",
              "    .dataframe tbody tr th {\n",
              "        vertical-align: top;\n",
              "    }\n",
              "\n",
              "    .dataframe thead th {\n",
              "        text-align: right;\n",
              "    }\n",
              "</style>\n",
              "<table border=\"1\" class=\"dataframe\">\n",
              "  <thead>\n",
              "    <tr style=\"text-align: right;\">\n",
              "      <th></th>\n",
              "      <th>job_link</th>\n",
              "      <th>last_processed_time</th>\n",
              "      <th>last_status</th>\n",
              "      <th>got_summary</th>\n",
              "      <th>got_ner</th>\n",
              "      <th>is_being_worked</th>\n",
              "      <th>job_title</th>\n",
              "      <th>company</th>\n",
              "      <th>job_location</th>\n",
              "      <th>first_seen</th>\n",
              "      <th>search_city</th>\n",
              "      <th>search_country</th>\n",
              "      <th>search_position</th>\n",
              "      <th>job_level</th>\n",
              "      <th>job_type</th>\n",
              "      <th>job_skills</th>\n",
              "      <th>job_summary</th>\n",
              "    </tr>\n",
              "  </thead>\n",
              "  <tbody>\n",
              "    <tr>\n",
              "      <th>0</th>\n",
              "      <td>https://www.linkedin.com/jobs/view/senior-mach...</td>\n",
              "      <td>2024-01-21 08:08:48.031964+00</td>\n",
              "      <td>Finished NER</td>\n",
              "      <td>t</td>\n",
              "      <td>t</td>\n",
              "      <td>f</td>\n",
              "      <td>Senior Machine Learning Engineer</td>\n",
              "      <td>Jobs for Humanity</td>\n",
              "      <td>New Haven, CT</td>\n",
              "      <td>2024-01-14</td>\n",
              "      <td>East Haven</td>\n",
              "      <td>United States</td>\n",
              "      <td>Agricultural-Research Engineer</td>\n",
              "      <td>Mid senior</td>\n",
              "      <td>Onsite</td>\n",
              "      <td>Machine Learning, Programming, Python, Scala, ...</td>\n",
              "      <td>Company Description\\nJobs for Humanity is part...</td>\n",
              "    </tr>\n",
              "    <tr>\n",
              "      <th>1</th>\n",
              "      <td>https://www.linkedin.com/jobs/view/principal-s...</td>\n",
              "      <td>2024-01-20 04:02:12.331406+00</td>\n",
              "      <td>Finished NER</td>\n",
              "      <td>t</td>\n",
              "      <td>t</td>\n",
              "      <td>f</td>\n",
              "      <td>Principal Software Engineer, ML Accelerators</td>\n",
              "      <td>Aurora</td>\n",
              "      <td>San Francisco, CA</td>\n",
              "      <td>2024-01-14</td>\n",
              "      <td>El Cerrito</td>\n",
              "      <td>United States</td>\n",
              "      <td>Set-Key Driver</td>\n",
              "      <td>Mid senior</td>\n",
              "      <td>Onsite</td>\n",
              "      <td>C++, Python, PyTorch, TensorFlow, MXNet, CUDA,...</td>\n",
              "      <td>Who We Are\\nAurora (Nasdaq: AUR) is delivering...</td>\n",
              "    </tr>\n",
              "    <tr>\n",
              "      <th>2</th>\n",
              "      <td>https://www.linkedin.com/jobs/view/senior-etl-...</td>\n",
              "      <td>2024-01-21 08:08:31.941595+00</td>\n",
              "      <td>Finished NER</td>\n",
              "      <td>t</td>\n",
              "      <td>t</td>\n",
              "      <td>f</td>\n",
              "      <td>Senior ETL Data Warehouse Specialist</td>\n",
              "      <td>Adame Services LLC</td>\n",
              "      <td>New York, NY</td>\n",
              "      <td>2024-01-14</td>\n",
              "      <td>Middletown</td>\n",
              "      <td>United States</td>\n",
              "      <td>Technical Support Specialist</td>\n",
              "      <td>Associate</td>\n",
              "      <td>Onsite</td>\n",
              "      <td>ETL, Data Integration, Data Transformation, Da...</td>\n",
              "      <td>Location: New York City, NY\\nPosition Summary\\...</td>\n",
              "    </tr>\n",
              "    <tr>\n",
              "      <th>3</th>\n",
              "      <td>https://www.linkedin.com/jobs/view/senior-data...</td>\n",
              "      <td>2024-01-20 15:30:55.796572+00</td>\n",
              "      <td>Finished NER</td>\n",
              "      <td>t</td>\n",
              "      <td>t</td>\n",
              "      <td>f</td>\n",
              "      <td>Senior Data Warehouse Developer / Architect</td>\n",
              "      <td>Morph Enterprise</td>\n",
              "      <td>Harrisburg, PA</td>\n",
              "      <td>2024-01-12</td>\n",
              "      <td>Lebanon</td>\n",
              "      <td>United States</td>\n",
              "      <td>Architect</td>\n",
              "      <td>Mid senior</td>\n",
              "      <td>Onsite</td>\n",
              "      <td>Data Lakes, Data Bricks, Azure Data Factory Pi...</td>\n",
              "      <td>Responsibilities:\\nCandidate must have signifi...</td>\n",
              "    </tr>\n",
              "    <tr>\n",
              "      <th>4</th>\n",
              "      <td>https://www.linkedin.com/jobs/view/lead-data-e...</td>\n",
              "      <td>2024-01-21 08:08:58.312124+00</td>\n",
              "      <td>Finished NER</td>\n",
              "      <td>t</td>\n",
              "      <td>t</td>\n",
              "      <td>f</td>\n",
              "      <td>Lead Data Engineer</td>\n",
              "      <td>Dice</td>\n",
              "      <td>Plano, TX</td>\n",
              "      <td>2024-01-14</td>\n",
              "      <td>McKinney</td>\n",
              "      <td>United States</td>\n",
              "      <td>Maintenance Data Analyst</td>\n",
              "      <td>Mid senior</td>\n",
              "      <td>Onsite</td>\n",
              "      <td>Java, Scala, Python, RDBMS, NoSQL, Redshift, S...</td>\n",
              "      <td>Dice is the leading career destination for tec...</td>\n",
              "    </tr>\n",
              "  </tbody>\n",
              "</table>\n",
              "</div>"
            ],
            "text/plain": [
              "                                            job_link  \\\n",
              "0  https://www.linkedin.com/jobs/view/senior-mach...   \n",
              "1  https://www.linkedin.com/jobs/view/principal-s...   \n",
              "2  https://www.linkedin.com/jobs/view/senior-etl-...   \n",
              "3  https://www.linkedin.com/jobs/view/senior-data...   \n",
              "4  https://www.linkedin.com/jobs/view/lead-data-e...   \n",
              "\n",
              "             last_processed_time   last_status got_summary got_ner  \\\n",
              "0  2024-01-21 08:08:48.031964+00  Finished NER           t       t   \n",
              "1  2024-01-20 04:02:12.331406+00  Finished NER           t       t   \n",
              "2  2024-01-21 08:08:31.941595+00  Finished NER           t       t   \n",
              "3  2024-01-20 15:30:55.796572+00  Finished NER           t       t   \n",
              "4  2024-01-21 08:08:58.312124+00  Finished NER           t       t   \n",
              "\n",
              "  is_being_worked                                     job_title  \\\n",
              "0               f              Senior Machine Learning Engineer   \n",
              "1               f  Principal Software Engineer, ML Accelerators   \n",
              "2               f          Senior ETL Data Warehouse Specialist   \n",
              "3               f   Senior Data Warehouse Developer / Architect   \n",
              "4               f                            Lead Data Engineer   \n",
              "\n",
              "              company       job_location  first_seen search_city  \\\n",
              "0   Jobs for Humanity      New Haven, CT  2024-01-14  East Haven   \n",
              "1              Aurora  San Francisco, CA  2024-01-14  El Cerrito   \n",
              "2  Adame Services LLC       New York, NY  2024-01-14  Middletown   \n",
              "3    Morph Enterprise     Harrisburg, PA  2024-01-12     Lebanon   \n",
              "4                Dice          Plano, TX  2024-01-14    McKinney   \n",
              "\n",
              "  search_country                 search_position   job_level job_type  \\\n",
              "0  United States  Agricultural-Research Engineer  Mid senior   Onsite   \n",
              "1  United States                  Set-Key Driver  Mid senior   Onsite   \n",
              "2  United States    Technical Support Specialist   Associate   Onsite   \n",
              "3  United States                       Architect  Mid senior   Onsite   \n",
              "4  United States        Maintenance Data Analyst  Mid senior   Onsite   \n",
              "\n",
              "                                          job_skills  \\\n",
              "0  Machine Learning, Programming, Python, Scala, ...   \n",
              "1  C++, Python, PyTorch, TensorFlow, MXNet, CUDA,...   \n",
              "2  ETL, Data Integration, Data Transformation, Da...   \n",
              "3  Data Lakes, Data Bricks, Azure Data Factory Pi...   \n",
              "4  Java, Scala, Python, RDBMS, NoSQL, Redshift, S...   \n",
              "\n",
              "                                         job_summary  \n",
              "0  Company Description\\nJobs for Humanity is part...  \n",
              "1  Who We Are\\nAurora (Nasdaq: AUR) is delivering...  \n",
              "2  Location: New York City, NY\\nPosition Summary\\...  \n",
              "3  Responsibilities:\\nCandidate must have signifi...  \n",
              "4  Dice is the leading career destination for tec...  "
            ]
          },
          "execution_count": 10,
          "metadata": {},
          "output_type": "execute_result"
        }
      ],
      "source": [
        "merged.head()"
      ]
    },
    {
      "cell_type": "code",
      "execution_count": 11,
      "metadata": {
        "id": "DKx4yrdFNoVX"
      },
      "outputs": [],
      "source": [
        "# Filter out rows with missing job level\n",
        "salaries_df = salaries_df[salaries_df['experience_level'] != 'EX']"
      ]
    },
    {
      "cell_type": "code",
      "execution_count": 12,
      "metadata": {
        "colab": {
          "base_uri": "https://localhost:8080/"
        },
        "id": "nwkTLXh1NoVX",
        "outputId": "5d1546d4-2d5d-465a-bc57-2021f6af4141"
      },
      "outputs": [],
      "source": [
        "merged['job_title_clean'] = merged['job_title'].astype(str).str.lower().str.strip()\n",
        "salaries_df['job_title_clean'] = salaries_df['job_title'].astype(str).str.lower().str.strip()\n"
      ]
    },
    {
      "cell_type": "code",
      "execution_count": 13,
      "metadata": {
        "id": "ifXp0fpYNoVY"
      },
      "outputs": [],
      "source": [
        "level_map = {\n",
        "    'Associate': 'EN',\n",
        "    'Mid senior': 'SE',\n",
        "}\n",
        "\n",
        "merged['experience_level_mapped'] = merged['job_level'].map(level_map)\n"
      ]
    },
    {
      "cell_type": "code",
      "execution_count": 14,
      "metadata": {
        "id": "XLJTJ5HiNoVY"
      },
      "outputs": [],
      "source": [
        "# Group by job title + experience level\n",
        "salary_ref = salaries_df.groupby(['job_title_clean', 'experience_level'])['salary_in_usd'].mean().reset_index()\n",
        "salary_ref.rename(columns={'salary_in_usd': 'avg_salary_in_usd'}, inplace=True)"
      ]
    },
    {
      "cell_type": "code",
      "execution_count": 15,
      "metadata": {
        "id": "ad2QEOXQNoVY"
      },
      "outputs": [],
      "source": [
        "# Create job title pools\n",
        "job_titles_jobs = merged['job_title_clean'].dropna().unique()\n",
        "job_titles_salary = salary_ref['job_title_clean'].dropna().unique()\n",
        "\n",
        "# Perform fuzzy matching\n",
        "title_mapping_fuzzy = {}\n",
        "review_matches = []\n",
        "\n",
        "for title in job_titles_jobs:\n",
        "    best_match = process.extractOne(title, job_titles_salary, scorer=fuzz.token_set_ratio)\n",
        "    if best_match:\n",
        "        matched_title, score = best_match\n",
        "        if score >= 85:\n",
        "            title_mapping_fuzzy[title] = matched_title\n",
        "            if score < 88:\n",
        "                review_matches.append((title, matched_title, score))\n",
        "\n",
        "# Finalize fuzzy match map\n",
        "for original, matched, score in review_matches:\n",
        "    title_mapping_fuzzy[original] = matched\n",
        "\n",
        "# Map to merged dataframe\n",
        "merged['job_title_matched'] = merged['job_title_clean'].map(title_mapping_fuzzy)"
      ]
    },
    {
      "cell_type": "code",
      "execution_count": 16,
      "metadata": {
        "id": "tBxMHPawNoVY"
      },
      "outputs": [],
      "source": [
        "# Merge using fuzzy-matched job title + experience level\n",
        "final_df = merged.merge(\n",
        "    salary_ref,\n",
        "    how='left',\n",
        "    left_on=['job_title_matched', 'experience_level_mapped'],\n",
        "    right_on=['job_title_clean', 'experience_level']\n",
        ")"
      ]
    },
    {
      "cell_type": "code",
      "execution_count": 17,
      "metadata": {
        "id": "4WlJQTruNoVY"
      },
      "outputs": [],
      "source": [
        "# Step 1: Create fallback average salary per job title\n",
        "salary_ref_title_only = salaries_df.groupby('job_title_clean')['salary_in_usd'].mean().reset_index()\n",
        "salary_ref_title_only.rename(columns={'salary_in_usd': 'title_only_avg_salary'}, inplace=True)\n",
        "\n",
        "# Step 2: Create a mapping dictionary\n",
        "fallback_map = salary_ref_title_only.set_index('job_title_clean')['title_only_avg_salary'].to_dict()\n",
        "\n",
        "# Step 3: Assign primary salary column from previous merge\n",
        "# Make sure 'avg_salary_usd' exists from the earlier merge\n",
        "final_df['final_salary'] = final_df.get('avg_salary_usd')\n",
        "\n",
        "# Step 4: Use fallback where primary salary is missing\n",
        "missing_mask = final_df['final_salary'].isna() & final_df['job_title_matched'].notna()\n",
        "final_df.loc[missing_mask, 'final_salary'] = final_df.loc[missing_mask, 'job_title_matched'].map(fallback_map)"
      ]
    },
    {
      "cell_type": "code",
      "execution_count": 18,
      "metadata": {
        "colab": {
          "base_uri": "https://localhost:8080/"
        },
        "id": "W4U-7JcSNoVY",
        "outputId": "658500aa-69e2-4a32-e4a8-0044e532a8a0"
      },
      "outputs": [
        {
          "name": "stdout",
          "output_type": "stream",
          "text": [
            "final_salary_bracket\n",
            "High       5979\n",
            "Medium     4291\n",
            "Unknown    1578\n",
            "Low         369\n",
            "Name: count, dtype: int64\n"
          ]
        }
      ],
      "source": [
        "def get_salary_bracket(salary):\n",
        "    if pd.isna(salary):\n",
        "        return \"Unknown\"\n",
        "    elif salary < 75000:\n",
        "        return \"Low\"\n",
        "    elif 75000 <= salary <= 125000:\n",
        "        return \"Medium\"\n",
        "    else:\n",
        "        return \"High\"\n",
        "\n",
        "final_df['final_salary_bracket'] = final_df['final_salary'].apply(get_salary_bracket)\n",
        "print(final_df['final_salary_bracket'].value_counts())"
      ]
    },
    {
      "cell_type": "code",
      "execution_count": 19,
      "metadata": {
        "colab": {
          "base_uri": "https://localhost:8080/",
          "height": 585
        },
        "id": "21s0Seh6NoVY",
        "outputId": "6ce6660d-29c9-4e78-c0e3-cfb94b3e4056"
      },
      "outputs": [
        {
          "data": {
            "text/html": [
              "<div>\n",
              "<style scoped>\n",
              "    .dataframe tbody tr th:only-of-type {\n",
              "        vertical-align: middle;\n",
              "    }\n",
              "\n",
              "    .dataframe tbody tr th {\n",
              "        vertical-align: top;\n",
              "    }\n",
              "\n",
              "    .dataframe thead th {\n",
              "        text-align: right;\n",
              "    }\n",
              "</style>\n",
              "<table border=\"1\" class=\"dataframe\">\n",
              "  <thead>\n",
              "    <tr style=\"text-align: right;\">\n",
              "      <th></th>\n",
              "      <th>job_link</th>\n",
              "      <th>last_processed_time</th>\n",
              "      <th>last_status</th>\n",
              "      <th>got_summary</th>\n",
              "      <th>got_ner</th>\n",
              "      <th>is_being_worked</th>\n",
              "      <th>job_title</th>\n",
              "      <th>company</th>\n",
              "      <th>job_location</th>\n",
              "      <th>first_seen</th>\n",
              "      <th>...</th>\n",
              "      <th>job_skills</th>\n",
              "      <th>job_summary</th>\n",
              "      <th>job_title_clean_x</th>\n",
              "      <th>experience_level_mapped</th>\n",
              "      <th>job_title_matched</th>\n",
              "      <th>job_title_clean_y</th>\n",
              "      <th>experience_level</th>\n",
              "      <th>avg_salary_in_usd</th>\n",
              "      <th>final_salary</th>\n",
              "      <th>final_salary_bracket</th>\n",
              "    </tr>\n",
              "  </thead>\n",
              "  <tbody>\n",
              "    <tr>\n",
              "      <th>0</th>\n",
              "      <td>https://www.linkedin.com/jobs/view/senior-mach...</td>\n",
              "      <td>2024-01-21 08:08:48.031964+00</td>\n",
              "      <td>Finished NER</td>\n",
              "      <td>t</td>\n",
              "      <td>t</td>\n",
              "      <td>f</td>\n",
              "      <td>Senior Machine Learning Engineer</td>\n",
              "      <td>Jobs for Humanity</td>\n",
              "      <td>New Haven, CT</td>\n",
              "      <td>2024-01-14</td>\n",
              "      <td>...</td>\n",
              "      <td>Machine Learning, Programming, Python, Scala, ...</td>\n",
              "      <td>Company Description\\nJobs for Humanity is part...</td>\n",
              "      <td>senior machine learning engineer</td>\n",
              "      <td>SE</td>\n",
              "      <td>engineer</td>\n",
              "      <td>engineer</td>\n",
              "      <td>SE</td>\n",
              "      <td>183846.711538</td>\n",
              "      <td>167650.02322</td>\n",
              "      <td>High</td>\n",
              "    </tr>\n",
              "    <tr>\n",
              "      <th>1</th>\n",
              "      <td>https://www.linkedin.com/jobs/view/principal-s...</td>\n",
              "      <td>2024-01-20 04:02:12.331406+00</td>\n",
              "      <td>Finished NER</td>\n",
              "      <td>t</td>\n",
              "      <td>t</td>\n",
              "      <td>f</td>\n",
              "      <td>Principal Software Engineer, ML Accelerators</td>\n",
              "      <td>Aurora</td>\n",
              "      <td>San Francisco, CA</td>\n",
              "      <td>2024-01-14</td>\n",
              "      <td>...</td>\n",
              "      <td>C++, Python, PyTorch, TensorFlow, MXNet, CUDA,...</td>\n",
              "      <td>Who We Are\\nAurora (Nasdaq: AUR) is delivering...</td>\n",
              "      <td>principal software engineer, ml accelerators</td>\n",
              "      <td>SE</td>\n",
              "      <td>engineer</td>\n",
              "      <td>engineer</td>\n",
              "      <td>SE</td>\n",
              "      <td>183846.711538</td>\n",
              "      <td>167650.02322</td>\n",
              "      <td>High</td>\n",
              "    </tr>\n",
              "    <tr>\n",
              "      <th>2</th>\n",
              "      <td>https://www.linkedin.com/jobs/view/senior-etl-...</td>\n",
              "      <td>2024-01-21 08:08:31.941595+00</td>\n",
              "      <td>Finished NER</td>\n",
              "      <td>t</td>\n",
              "      <td>t</td>\n",
              "      <td>f</td>\n",
              "      <td>Senior ETL Data Warehouse Specialist</td>\n",
              "      <td>Adame Services LLC</td>\n",
              "      <td>New York, NY</td>\n",
              "      <td>2024-01-14</td>\n",
              "      <td>...</td>\n",
              "      <td>ETL, Data Integration, Data Transformation, Da...</td>\n",
              "      <td>Location: New York City, NY\\nPosition Summary\\...</td>\n",
              "      <td>senior etl data warehouse specialist</td>\n",
              "      <td>EN</td>\n",
              "      <td>data specialist</td>\n",
              "      <td>data specialist</td>\n",
              "      <td>EN</td>\n",
              "      <td>65329.433962</td>\n",
              "      <td>82580.701456</td>\n",
              "      <td>Medium</td>\n",
              "    </tr>\n",
              "    <tr>\n",
              "      <th>3</th>\n",
              "      <td>https://www.linkedin.com/jobs/view/senior-data...</td>\n",
              "      <td>2024-01-20 15:30:55.796572+00</td>\n",
              "      <td>Finished NER</td>\n",
              "      <td>t</td>\n",
              "      <td>t</td>\n",
              "      <td>f</td>\n",
              "      <td>Senior Data Warehouse Developer / Architect</td>\n",
              "      <td>Morph Enterprise</td>\n",
              "      <td>Harrisburg, PA</td>\n",
              "      <td>2024-01-12</td>\n",
              "      <td>...</td>\n",
              "      <td>Data Lakes, Data Bricks, Azure Data Factory Pi...</td>\n",
              "      <td>Responsibilities:\\nCandidate must have signifi...</td>\n",
              "      <td>senior data warehouse developer / architect</td>\n",
              "      <td>SE</td>\n",
              "      <td>architect</td>\n",
              "      <td>architect</td>\n",
              "      <td>SE</td>\n",
              "      <td>176711.808824</td>\n",
              "      <td>176711.808824</td>\n",
              "      <td>High</td>\n",
              "    </tr>\n",
              "    <tr>\n",
              "      <th>4</th>\n",
              "      <td>https://www.linkedin.com/jobs/view/lead-data-e...</td>\n",
              "      <td>2024-01-21 08:08:58.312124+00</td>\n",
              "      <td>Finished NER</td>\n",
              "      <td>t</td>\n",
              "      <td>t</td>\n",
              "      <td>f</td>\n",
              "      <td>Lead Data Engineer</td>\n",
              "      <td>Dice</td>\n",
              "      <td>Plano, TX</td>\n",
              "      <td>2024-01-14</td>\n",
              "      <td>...</td>\n",
              "      <td>Java, Scala, Python, RDBMS, NoSQL, Redshift, S...</td>\n",
              "      <td>Dice is the leading career destination for tec...</td>\n",
              "      <td>lead data engineer</td>\n",
              "      <td>SE</td>\n",
              "      <td>data engineer</td>\n",
              "      <td>data engineer</td>\n",
              "      <td>SE</td>\n",
              "      <td>159508.844249</td>\n",
              "      <td>146427.799004</td>\n",
              "      <td>High</td>\n",
              "    </tr>\n",
              "  </tbody>\n",
              "</table>\n",
              "<p>5 rows × 25 columns</p>\n",
              "</div>"
            ],
            "text/plain": [
              "                                            job_link  \\\n",
              "0  https://www.linkedin.com/jobs/view/senior-mach...   \n",
              "1  https://www.linkedin.com/jobs/view/principal-s...   \n",
              "2  https://www.linkedin.com/jobs/view/senior-etl-...   \n",
              "3  https://www.linkedin.com/jobs/view/senior-data...   \n",
              "4  https://www.linkedin.com/jobs/view/lead-data-e...   \n",
              "\n",
              "             last_processed_time   last_status got_summary got_ner  \\\n",
              "0  2024-01-21 08:08:48.031964+00  Finished NER           t       t   \n",
              "1  2024-01-20 04:02:12.331406+00  Finished NER           t       t   \n",
              "2  2024-01-21 08:08:31.941595+00  Finished NER           t       t   \n",
              "3  2024-01-20 15:30:55.796572+00  Finished NER           t       t   \n",
              "4  2024-01-21 08:08:58.312124+00  Finished NER           t       t   \n",
              "\n",
              "  is_being_worked                                     job_title  \\\n",
              "0               f              Senior Machine Learning Engineer   \n",
              "1               f  Principal Software Engineer, ML Accelerators   \n",
              "2               f          Senior ETL Data Warehouse Specialist   \n",
              "3               f   Senior Data Warehouse Developer / Architect   \n",
              "4               f                            Lead Data Engineer   \n",
              "\n",
              "              company       job_location  first_seen  ...  \\\n",
              "0   Jobs for Humanity      New Haven, CT  2024-01-14  ...   \n",
              "1              Aurora  San Francisco, CA  2024-01-14  ...   \n",
              "2  Adame Services LLC       New York, NY  2024-01-14  ...   \n",
              "3    Morph Enterprise     Harrisburg, PA  2024-01-12  ...   \n",
              "4                Dice          Plano, TX  2024-01-14  ...   \n",
              "\n",
              "                                          job_skills  \\\n",
              "0  Machine Learning, Programming, Python, Scala, ...   \n",
              "1  C++, Python, PyTorch, TensorFlow, MXNet, CUDA,...   \n",
              "2  ETL, Data Integration, Data Transformation, Da...   \n",
              "3  Data Lakes, Data Bricks, Azure Data Factory Pi...   \n",
              "4  Java, Scala, Python, RDBMS, NoSQL, Redshift, S...   \n",
              "\n",
              "                                         job_summary  \\\n",
              "0  Company Description\\nJobs for Humanity is part...   \n",
              "1  Who We Are\\nAurora (Nasdaq: AUR) is delivering...   \n",
              "2  Location: New York City, NY\\nPosition Summary\\...   \n",
              "3  Responsibilities:\\nCandidate must have signifi...   \n",
              "4  Dice is the leading career destination for tec...   \n",
              "\n",
              "                              job_title_clean_x experience_level_mapped  \\\n",
              "0              senior machine learning engineer                      SE   \n",
              "1  principal software engineer, ml accelerators                      SE   \n",
              "2          senior etl data warehouse specialist                      EN   \n",
              "3   senior data warehouse developer / architect                      SE   \n",
              "4                            lead data engineer                      SE   \n",
              "\n",
              "  job_title_matched job_title_clean_y experience_level avg_salary_in_usd  \\\n",
              "0          engineer          engineer               SE     183846.711538   \n",
              "1          engineer          engineer               SE     183846.711538   \n",
              "2   data specialist   data specialist               EN      65329.433962   \n",
              "3         architect         architect               SE     176711.808824   \n",
              "4     data engineer     data engineer               SE     159508.844249   \n",
              "\n",
              "    final_salary final_salary_bracket  \n",
              "0   167650.02322                 High  \n",
              "1   167650.02322                 High  \n",
              "2   82580.701456               Medium  \n",
              "3  176711.808824                 High  \n",
              "4  146427.799004                 High  \n",
              "\n",
              "[5 rows x 25 columns]"
            ]
          },
          "execution_count": 19,
          "metadata": {},
          "output_type": "execute_result"
        }
      ],
      "source": [
        "final_df.head()"
      ]
    },
    {
      "cell_type": "code",
      "execution_count": 20,
      "metadata": {
        "colab": {
          "base_uri": "https://localhost:8080/"
        },
        "id": "k3mGxw_UNoVY",
        "outputId": "6692f1ad-17d3-4135-c0b9-354b1ead97af"
      },
      "outputs": [
        {
          "name": "stdout",
          "output_type": "stream",
          "text": [
            "🔍 Top unmatched job titles (by frequency):\n",
            "job_title_clean_x\n",
            "datacenter technician                                                                      32\n",
            "data steward - research analysis spec sr                                                   25\n",
            "director, ontology and data modeling                                                       22\n",
            "registered nurse | intensive care unit (kamloops, bc) - potential relocation assistance    15\n",
            "field inspector/auditor/data collector (c)                                                 14\n",
            "2024 mlb gameday compliance monitor (seasonal)                                             12\n",
            "sales director - data & ai                                                                 12\n",
            "data center technician                                                                     12\n",
            "data entry clerk                                                                           12\n",
            "volunteer: data and salesforce volunteer                                                   11\n",
            "medical laboratory technologist - mt / medical laboratory technologist - mlt               11\n",
            "mlt                                                                                        10\n",
            "medical technologist mt or mlt                                                             10\n",
            "registered nurse intensive care unit (kamloops, bc) - potential relocation assistance       9\n",
            "medical technologist mt or medical lab technician mlt - laboratory                          8\n",
            "Name: count, dtype: int64\n",
            "✅ Exported 'remaining_unknown_titles.csv'.\n"
          ]
        }
      ],
      "source": [
        "# Filter rows where salary bracket is 'Unknown'\n",
        "unknown_df = final_df[final_df['final_salary_bracket'] == 'Unknown']\n",
        "\n",
        "# Show top 15 unmatched job titles (cleaned version)\n",
        "print(\"🔍 Top unmatched job titles (by frequency):\")\n",
        "print(unknown_df['job_title_clean_x'].value_counts().head(15))\n",
        "\n",
        "# Export for manual review\n",
        "# You can manually review this CSV in Excel or Sheets and note which titles are non-technical\n",
        "unknown_df[['job_title', 'job_title_clean_x']].drop_duplicates().to_csv(\"remaining_unknown_titles.csv\", index=False)\n",
        "\n",
        "print(\"✅ Exported 'remaining_unknown_titles.csv'.\")"
      ]
    },
    {
      "cell_type": "code",
      "execution_count": 21,
      "metadata": {
        "colab": {
          "base_uri": "https://localhost:8080/"
        },
        "id": "OgpTR5uhNoVY",
        "outputId": "60c80906-7d1a-4fba-e9d4-2286e725e0b0"
      },
      "outputs": [
        {
          "name": "stdout",
          "output_type": "stream",
          "text": [
            "✅ Cleaned Salary Bracket Distribution (Non-technical Unknowns removed):\n",
            "final_salary_bracket\n",
            "High       5979\n",
            "Medium     4291\n",
            "Unknown     964\n",
            "Low         369\n",
            "Name: count, dtype: int64\n"
          ]
        }
      ],
      "source": [
        "# Define a list of keywords that indicate NON-technical roles\n",
        "non_technical_keywords = [\n",
        "    'nurse', 'medical', 'technologist', 'technician', 'mt', 'mlt',\n",
        "    'lab', 'laboratory', 'volunteer', 'compliance monitor', 'auditor',\n",
        "    'inspector', 'salesforce', 'gameday', 'relocation assistance'\n",
        "]\n",
        "\n",
        "# Function to check if a job title is non-technical\n",
        "def is_non_technical(title):\n",
        "    title = str(title).lower()\n",
        "    return any(keyword in title for keyword in non_technical_keywords)\n",
        "\n",
        "# Filter only technical Unknowns\n",
        "unknown_df = final_df[final_df['final_salary_bracket'] == 'Unknown']\n",
        "technical_unknowns = unknown_df[~unknown_df['job_title_clean_x'].apply(is_non_technical)]\n",
        "\n",
        "# Combine back into final_df, keeping only:\n",
        "# 1. All rows that are NOT Unknown\n",
        "# 2. Technical Unknowns\n",
        "final_df_cleaned = pd.concat([\n",
        "    final_df[final_df['final_salary_bracket'] != 'Unknown'],\n",
        "    technical_unknowns\n",
        "], ignore_index=True)\n",
        "\n",
        "# Check updated salary bracket distribution\n",
        "print(\"✅ Cleaned Salary Bracket Distribution (Non-technical Unknowns removed):\")\n",
        "print(final_df_cleaned['final_salary_bracket'].value_counts())"
      ]
    },
    {
      "cell_type": "code",
      "execution_count": 22,
      "metadata": {
        "colab": {
          "base_uri": "https://localhost:8080/",
          "height": 585
        },
        "id": "IzYrnE95NoVZ",
        "outputId": "50aa7c06-cea2-4db9-cabb-c5cb011ff2dd"
      },
      "outputs": [
        {
          "data": {
            "text/html": [
              "<div>\n",
              "<style scoped>\n",
              "    .dataframe tbody tr th:only-of-type {\n",
              "        vertical-align: middle;\n",
              "    }\n",
              "\n",
              "    .dataframe tbody tr th {\n",
              "        vertical-align: top;\n",
              "    }\n",
              "\n",
              "    .dataframe thead th {\n",
              "        text-align: right;\n",
              "    }\n",
              "</style>\n",
              "<table border=\"1\" class=\"dataframe\">\n",
              "  <thead>\n",
              "    <tr style=\"text-align: right;\">\n",
              "      <th></th>\n",
              "      <th>job_link</th>\n",
              "      <th>last_processed_time</th>\n",
              "      <th>last_status</th>\n",
              "      <th>got_summary</th>\n",
              "      <th>got_ner</th>\n",
              "      <th>is_being_worked</th>\n",
              "      <th>job_title</th>\n",
              "      <th>company</th>\n",
              "      <th>job_location</th>\n",
              "      <th>first_seen</th>\n",
              "      <th>...</th>\n",
              "      <th>job_skills</th>\n",
              "      <th>job_summary</th>\n",
              "      <th>job_title_clean_x</th>\n",
              "      <th>experience_level_mapped</th>\n",
              "      <th>job_title_matched</th>\n",
              "      <th>job_title_clean_y</th>\n",
              "      <th>experience_level</th>\n",
              "      <th>avg_salary_in_usd</th>\n",
              "      <th>final_salary</th>\n",
              "      <th>final_salary_bracket</th>\n",
              "    </tr>\n",
              "  </thead>\n",
              "  <tbody>\n",
              "    <tr>\n",
              "      <th>0</th>\n",
              "      <td>https://www.linkedin.com/jobs/view/senior-mach...</td>\n",
              "      <td>2024-01-21 08:08:48.031964+00</td>\n",
              "      <td>Finished NER</td>\n",
              "      <td>t</td>\n",
              "      <td>t</td>\n",
              "      <td>f</td>\n",
              "      <td>Senior Machine Learning Engineer</td>\n",
              "      <td>Jobs for Humanity</td>\n",
              "      <td>New Haven, CT</td>\n",
              "      <td>2024-01-14</td>\n",
              "      <td>...</td>\n",
              "      <td>Machine Learning, Programming, Python, Scala, ...</td>\n",
              "      <td>Company Description\\nJobs for Humanity is part...</td>\n",
              "      <td>senior machine learning engineer</td>\n",
              "      <td>SE</td>\n",
              "      <td>engineer</td>\n",
              "      <td>engineer</td>\n",
              "      <td>SE</td>\n",
              "      <td>183846.711538</td>\n",
              "      <td>167650.02322</td>\n",
              "      <td>High</td>\n",
              "    </tr>\n",
              "    <tr>\n",
              "      <th>1</th>\n",
              "      <td>https://www.linkedin.com/jobs/view/principal-s...</td>\n",
              "      <td>2024-01-20 04:02:12.331406+00</td>\n",
              "      <td>Finished NER</td>\n",
              "      <td>t</td>\n",
              "      <td>t</td>\n",
              "      <td>f</td>\n",
              "      <td>Principal Software Engineer, ML Accelerators</td>\n",
              "      <td>Aurora</td>\n",
              "      <td>San Francisco, CA</td>\n",
              "      <td>2024-01-14</td>\n",
              "      <td>...</td>\n",
              "      <td>C++, Python, PyTorch, TensorFlow, MXNet, CUDA,...</td>\n",
              "      <td>Who We Are\\nAurora (Nasdaq: AUR) is delivering...</td>\n",
              "      <td>principal software engineer, ml accelerators</td>\n",
              "      <td>SE</td>\n",
              "      <td>engineer</td>\n",
              "      <td>engineer</td>\n",
              "      <td>SE</td>\n",
              "      <td>183846.711538</td>\n",
              "      <td>167650.02322</td>\n",
              "      <td>High</td>\n",
              "    </tr>\n",
              "    <tr>\n",
              "      <th>2</th>\n",
              "      <td>https://www.linkedin.com/jobs/view/senior-etl-...</td>\n",
              "      <td>2024-01-21 08:08:31.941595+00</td>\n",
              "      <td>Finished NER</td>\n",
              "      <td>t</td>\n",
              "      <td>t</td>\n",
              "      <td>f</td>\n",
              "      <td>Senior ETL Data Warehouse Specialist</td>\n",
              "      <td>Adame Services LLC</td>\n",
              "      <td>New York, NY</td>\n",
              "      <td>2024-01-14</td>\n",
              "      <td>...</td>\n",
              "      <td>ETL, Data Integration, Data Transformation, Da...</td>\n",
              "      <td>Location: New York City, NY\\nPosition Summary\\...</td>\n",
              "      <td>senior etl data warehouse specialist</td>\n",
              "      <td>EN</td>\n",
              "      <td>data specialist</td>\n",
              "      <td>data specialist</td>\n",
              "      <td>EN</td>\n",
              "      <td>65329.433962</td>\n",
              "      <td>82580.701456</td>\n",
              "      <td>Medium</td>\n",
              "    </tr>\n",
              "    <tr>\n",
              "      <th>3</th>\n",
              "      <td>https://www.linkedin.com/jobs/view/senior-data...</td>\n",
              "      <td>2024-01-20 15:30:55.796572+00</td>\n",
              "      <td>Finished NER</td>\n",
              "      <td>t</td>\n",
              "      <td>t</td>\n",
              "      <td>f</td>\n",
              "      <td>Senior Data Warehouse Developer / Architect</td>\n",
              "      <td>Morph Enterprise</td>\n",
              "      <td>Harrisburg, PA</td>\n",
              "      <td>2024-01-12</td>\n",
              "      <td>...</td>\n",
              "      <td>Data Lakes, Data Bricks, Azure Data Factory Pi...</td>\n",
              "      <td>Responsibilities:\\nCandidate must have signifi...</td>\n",
              "      <td>senior data warehouse developer / architect</td>\n",
              "      <td>SE</td>\n",
              "      <td>architect</td>\n",
              "      <td>architect</td>\n",
              "      <td>SE</td>\n",
              "      <td>176711.808824</td>\n",
              "      <td>176711.808824</td>\n",
              "      <td>High</td>\n",
              "    </tr>\n",
              "    <tr>\n",
              "      <th>4</th>\n",
              "      <td>https://www.linkedin.com/jobs/view/lead-data-e...</td>\n",
              "      <td>2024-01-21 08:08:58.312124+00</td>\n",
              "      <td>Finished NER</td>\n",
              "      <td>t</td>\n",
              "      <td>t</td>\n",
              "      <td>f</td>\n",
              "      <td>Lead Data Engineer</td>\n",
              "      <td>Dice</td>\n",
              "      <td>Plano, TX</td>\n",
              "      <td>2024-01-14</td>\n",
              "      <td>...</td>\n",
              "      <td>Java, Scala, Python, RDBMS, NoSQL, Redshift, S...</td>\n",
              "      <td>Dice is the leading career destination for tec...</td>\n",
              "      <td>lead data engineer</td>\n",
              "      <td>SE</td>\n",
              "      <td>data engineer</td>\n",
              "      <td>data engineer</td>\n",
              "      <td>SE</td>\n",
              "      <td>159508.844249</td>\n",
              "      <td>146427.799004</td>\n",
              "      <td>High</td>\n",
              "    </tr>\n",
              "  </tbody>\n",
              "</table>\n",
              "<p>5 rows × 25 columns</p>\n",
              "</div>"
            ],
            "text/plain": [
              "                                            job_link  \\\n",
              "0  https://www.linkedin.com/jobs/view/senior-mach...   \n",
              "1  https://www.linkedin.com/jobs/view/principal-s...   \n",
              "2  https://www.linkedin.com/jobs/view/senior-etl-...   \n",
              "3  https://www.linkedin.com/jobs/view/senior-data...   \n",
              "4  https://www.linkedin.com/jobs/view/lead-data-e...   \n",
              "\n",
              "             last_processed_time   last_status got_summary got_ner  \\\n",
              "0  2024-01-21 08:08:48.031964+00  Finished NER           t       t   \n",
              "1  2024-01-20 04:02:12.331406+00  Finished NER           t       t   \n",
              "2  2024-01-21 08:08:31.941595+00  Finished NER           t       t   \n",
              "3  2024-01-20 15:30:55.796572+00  Finished NER           t       t   \n",
              "4  2024-01-21 08:08:58.312124+00  Finished NER           t       t   \n",
              "\n",
              "  is_being_worked                                     job_title  \\\n",
              "0               f              Senior Machine Learning Engineer   \n",
              "1               f  Principal Software Engineer, ML Accelerators   \n",
              "2               f          Senior ETL Data Warehouse Specialist   \n",
              "3               f   Senior Data Warehouse Developer / Architect   \n",
              "4               f                            Lead Data Engineer   \n",
              "\n",
              "              company       job_location  first_seen  ...  \\\n",
              "0   Jobs for Humanity      New Haven, CT  2024-01-14  ...   \n",
              "1              Aurora  San Francisco, CA  2024-01-14  ...   \n",
              "2  Adame Services LLC       New York, NY  2024-01-14  ...   \n",
              "3    Morph Enterprise     Harrisburg, PA  2024-01-12  ...   \n",
              "4                Dice          Plano, TX  2024-01-14  ...   \n",
              "\n",
              "                                          job_skills  \\\n",
              "0  Machine Learning, Programming, Python, Scala, ...   \n",
              "1  C++, Python, PyTorch, TensorFlow, MXNet, CUDA,...   \n",
              "2  ETL, Data Integration, Data Transformation, Da...   \n",
              "3  Data Lakes, Data Bricks, Azure Data Factory Pi...   \n",
              "4  Java, Scala, Python, RDBMS, NoSQL, Redshift, S...   \n",
              "\n",
              "                                         job_summary  \\\n",
              "0  Company Description\\nJobs for Humanity is part...   \n",
              "1  Who We Are\\nAurora (Nasdaq: AUR) is delivering...   \n",
              "2  Location: New York City, NY\\nPosition Summary\\...   \n",
              "3  Responsibilities:\\nCandidate must have signifi...   \n",
              "4  Dice is the leading career destination for tec...   \n",
              "\n",
              "                              job_title_clean_x experience_level_mapped  \\\n",
              "0              senior machine learning engineer                      SE   \n",
              "1  principal software engineer, ml accelerators                      SE   \n",
              "2          senior etl data warehouse specialist                      EN   \n",
              "3   senior data warehouse developer / architect                      SE   \n",
              "4                            lead data engineer                      SE   \n",
              "\n",
              "  job_title_matched job_title_clean_y experience_level avg_salary_in_usd  \\\n",
              "0          engineer          engineer               SE     183846.711538   \n",
              "1          engineer          engineer               SE     183846.711538   \n",
              "2   data specialist   data specialist               EN      65329.433962   \n",
              "3         architect         architect               SE     176711.808824   \n",
              "4     data engineer     data engineer               SE     159508.844249   \n",
              "\n",
              "    final_salary final_salary_bracket  \n",
              "0   167650.02322                 High  \n",
              "1   167650.02322                 High  \n",
              "2   82580.701456               Medium  \n",
              "3  176711.808824                 High  \n",
              "4  146427.799004                 High  \n",
              "\n",
              "[5 rows x 25 columns]"
            ]
          },
          "execution_count": 22,
          "metadata": {},
          "output_type": "execute_result"
        }
      ],
      "source": [
        "final_df_cleaned.head()"
      ]
    },
    {
      "cell_type": "code",
      "execution_count": 23,
      "metadata": {
        "colab": {
          "base_uri": "https://localhost:8080/",
          "height": 1000
        },
        "id": "t6tlhqL-NoVZ",
        "outputId": "778b055d-2c8c-4bb0-df46-f2cd6e52231b"
      },
      "outputs": [
        {
          "data": {
            "text/html": [
              "<div>\n",
              "<style scoped>\n",
              "    .dataframe tbody tr th:only-of-type {\n",
              "        vertical-align: middle;\n",
              "    }\n",
              "\n",
              "    .dataframe tbody tr th {\n",
              "        vertical-align: top;\n",
              "    }\n",
              "\n",
              "    .dataframe thead th {\n",
              "        text-align: right;\n",
              "    }\n",
              "</style>\n",
              "<table border=\"1\" class=\"dataframe\">\n",
              "  <thead>\n",
              "    <tr style=\"text-align: right;\">\n",
              "      <th></th>\n",
              "      <th>job_title</th>\n",
              "      <th>job_title_clean_x</th>\n",
              "      <th>experience_level_mapped</th>\n",
              "    </tr>\n",
              "  </thead>\n",
              "  <tbody>\n",
              "    <tr>\n",
              "      <th>10639</th>\n",
              "      <td>Director, Ontology and Data Modeling</td>\n",
              "      <td>director, ontology and data modeling</td>\n",
              "      <td>SE</td>\n",
              "    </tr>\n",
              "    <tr>\n",
              "      <th>10641</th>\n",
              "      <td>Quality Coach / IQA - IT and Data Apprenticeships</td>\n",
              "      <td>quality coach / iqa - it and data apprenticeships</td>\n",
              "      <td>SE</td>\n",
              "    </tr>\n",
              "    <tr>\n",
              "      <th>10644</th>\n",
              "      <td>Data Steward - Research Analysis Spec Sr</td>\n",
              "      <td>data steward - research analysis spec sr</td>\n",
              "      <td>SE</td>\n",
              "    </tr>\n",
              "    <tr>\n",
              "      <th>10650</th>\n",
              "      <td>Data Control Clerk II</td>\n",
              "      <td>data control clerk ii</td>\n",
              "      <td>SE</td>\n",
              "    </tr>\n",
              "    <tr>\n",
              "      <th>10656</th>\n",
              "      <td>Sales Director - Data &amp; AI</td>\n",
              "      <td>sales director - data &amp; ai</td>\n",
              "      <td>SE</td>\n",
              "    </tr>\n",
              "    <tr>\n",
              "      <th>10662</th>\n",
              "      <td>Director, Data Analysis</td>\n",
              "      <td>director, data analysis</td>\n",
              "      <td>SE</td>\n",
              "    </tr>\n",
              "    <tr>\n",
              "      <th>10673</th>\n",
              "      <td>Traveling MEP Superintendent - MSG - Data Centers</td>\n",
              "      <td>traveling mep superintendent - msg - data centers</td>\n",
              "      <td>SE</td>\n",
              "    </tr>\n",
              "    <tr>\n",
              "      <th>10680</th>\n",
              "      <td>Data Center Supervisor</td>\n",
              "      <td>data center supervisor</td>\n",
              "      <td>SE</td>\n",
              "    </tr>\n",
              "    <tr>\n",
              "      <th>10689</th>\n",
              "      <td>Field Data Collection Service Owner</td>\n",
              "      <td>field data collection service owner</td>\n",
              "      <td>SE</td>\n",
              "    </tr>\n",
              "    <tr>\n",
              "      <th>10690</th>\n",
              "      <td>IT PROFESSIONAL 3 - Database Administration</td>\n",
              "      <td>it professional 3 - database administration</td>\n",
              "      <td>EN</td>\n",
              "    </tr>\n",
              "    <tr>\n",
              "      <th>10692</th>\n",
              "      <td>BSA/AML Investigator I</td>\n",
              "      <td>bsa/aml investigator i</td>\n",
              "      <td>SE</td>\n",
              "    </tr>\n",
              "    <tr>\n",
              "      <th>10714</th>\n",
              "      <td>Data Steward</td>\n",
              "      <td>data steward</td>\n",
              "      <td>SE</td>\n",
              "    </tr>\n",
              "    <tr>\n",
              "      <th>10731</th>\n",
              "      <td>Director, Securities Data Oversight</td>\n",
              "      <td>director, securities data oversight</td>\n",
              "      <td>SE</td>\n",
              "    </tr>\n",
              "    <tr>\n",
              "      <th>10739</th>\n",
              "      <td>Senior Director, Data Science</td>\n",
              "      <td>senior director, data science</td>\n",
              "      <td>SE</td>\n",
              "    </tr>\n",
              "    <tr>\n",
              "      <th>10740</th>\n",
              "      <td>Mandataire Immobilier (H/F)</td>\n",
              "      <td>mandataire immobilier (h/f)</td>\n",
              "      <td>SE</td>\n",
              "    </tr>\n",
              "    <tr>\n",
              "      <th>10769</th>\n",
              "      <td>Data Steward</td>\n",
              "      <td>data steward</td>\n",
              "      <td>EN</td>\n",
              "    </tr>\n",
              "    <tr>\n",
              "      <th>10779</th>\n",
              "      <td>Regional Cooling Service Expert (Data Center C...</td>\n",
              "      <td>regional cooling service expert (data center c...</td>\n",
              "      <td>EN</td>\n",
              "    </tr>\n",
              "    <tr>\n",
              "      <th>10781</th>\n",
              "      <td>Data Entry Clerk</td>\n",
              "      <td>data entry clerk</td>\n",
              "      <td>SE</td>\n",
              "    </tr>\n",
              "    <tr>\n",
              "      <th>10783</th>\n",
              "      <td>Senior Data Entry Operator</td>\n",
              "      <td>senior data entry operator</td>\n",
              "      <td>SE</td>\n",
              "    </tr>\n",
              "    <tr>\n",
              "      <th>10786</th>\n",
              "      <td>Senior Data Platforms Administrator</td>\n",
              "      <td>senior data platforms administrator</td>\n",
              "      <td>EN</td>\n",
              "    </tr>\n",
              "    <tr>\n",
              "      <th>10800</th>\n",
              "      <td>Road Data Collection Surveyor</td>\n",
              "      <td>road data collection surveyor</td>\n",
              "      <td>SE</td>\n",
              "    </tr>\n",
              "    <tr>\n",
              "      <th>10803</th>\n",
              "      <td>Data Editor</td>\n",
              "      <td>data editor</td>\n",
              "      <td>SE</td>\n",
              "    </tr>\n",
              "    <tr>\n",
              "      <th>10845</th>\n",
              "      <td>Data Privacy &amp; Security Attorney</td>\n",
              "      <td>data privacy &amp; security attorney</td>\n",
              "      <td>SE</td>\n",
              "    </tr>\n",
              "    <tr>\n",
              "      <th>10906</th>\n",
              "      <td>Data Entry Operator</td>\n",
              "      <td>data entry operator</td>\n",
              "      <td>SE</td>\n",
              "    </tr>\n",
              "    <tr>\n",
              "      <th>10927</th>\n",
              "      <td>Data Entry Operator</td>\n",
              "      <td>data entry operator</td>\n",
              "      <td>EN</td>\n",
              "    </tr>\n",
              "    <tr>\n",
              "      <th>10929</th>\n",
              "      <td>Data Entry Clerk</td>\n",
              "      <td>data entry clerk</td>\n",
              "      <td>EN</td>\n",
              "    </tr>\n",
              "    <tr>\n",
              "      <th>10939</th>\n",
              "      <td>DATA ABSTRACTOR</td>\n",
              "      <td>data abstractor</td>\n",
              "      <td>SE</td>\n",
              "    </tr>\n",
              "    <tr>\n",
              "      <th>10972</th>\n",
              "      <td>Senior Preconstruction Estimator - Data Center...</td>\n",
              "      <td>senior preconstruction estimator - data center...</td>\n",
              "      <td>SE</td>\n",
              "    </tr>\n",
              "    <tr>\n",
              "      <th>11007</th>\n",
              "      <td>Sales Executive, Data &amp; AI</td>\n",
              "      <td>sales executive, data &amp; ai</td>\n",
              "      <td>SE</td>\n",
              "    </tr>\n",
              "    <tr>\n",
              "      <th>11022</th>\n",
              "      <td>Data Privacy Attorney</td>\n",
              "      <td>data privacy attorney</td>\n",
              "      <td>SE</td>\n",
              "    </tr>\n",
              "  </tbody>\n",
              "</table>\n",
              "</div>"
            ],
            "text/plain": [
              "                                               job_title  \\\n",
              "10639               Director, Ontology and Data Modeling   \n",
              "10641  Quality Coach / IQA - IT and Data Apprenticeships   \n",
              "10644           Data Steward - Research Analysis Spec Sr   \n",
              "10650                              Data Control Clerk II   \n",
              "10656                         Sales Director - Data & AI   \n",
              "10662                            Director, Data Analysis   \n",
              "10673  Traveling MEP Superintendent - MSG - Data Centers   \n",
              "10680                             Data Center Supervisor   \n",
              "10689                Field Data Collection Service Owner   \n",
              "10690        IT PROFESSIONAL 3 - Database Administration   \n",
              "10692                             BSA/AML Investigator I   \n",
              "10714                                       Data Steward   \n",
              "10731                Director, Securities Data Oversight   \n",
              "10739                      Senior Director, Data Science   \n",
              "10740                        Mandataire Immobilier (H/F)   \n",
              "10769                                       Data Steward   \n",
              "10779  Regional Cooling Service Expert (Data Center C...   \n",
              "10781                                   Data Entry Clerk   \n",
              "10783                         Senior Data Entry Operator   \n",
              "10786                Senior Data Platforms Administrator   \n",
              "10800                      Road Data Collection Surveyor   \n",
              "10803                                        Data Editor   \n",
              "10845                   Data Privacy & Security Attorney   \n",
              "10906                                Data Entry Operator   \n",
              "10927                                Data Entry Operator   \n",
              "10929                                   Data Entry Clerk   \n",
              "10939                                    DATA ABSTRACTOR   \n",
              "10972  Senior Preconstruction Estimator - Data Center...   \n",
              "11007                         Sales Executive, Data & AI   \n",
              "11022                              Data Privacy Attorney   \n",
              "\n",
              "                                       job_title_clean_x  \\\n",
              "10639               director, ontology and data modeling   \n",
              "10641  quality coach / iqa - it and data apprenticeships   \n",
              "10644           data steward - research analysis spec sr   \n",
              "10650                              data control clerk ii   \n",
              "10656                         sales director - data & ai   \n",
              "10662                            director, data analysis   \n",
              "10673  traveling mep superintendent - msg - data centers   \n",
              "10680                             data center supervisor   \n",
              "10689                field data collection service owner   \n",
              "10690        it professional 3 - database administration   \n",
              "10692                             bsa/aml investigator i   \n",
              "10714                                       data steward   \n",
              "10731                director, securities data oversight   \n",
              "10739                      senior director, data science   \n",
              "10740                        mandataire immobilier (h/f)   \n",
              "10769                                       data steward   \n",
              "10779  regional cooling service expert (data center c...   \n",
              "10781                                   data entry clerk   \n",
              "10783                         senior data entry operator   \n",
              "10786                senior data platforms administrator   \n",
              "10800                      road data collection surveyor   \n",
              "10803                                        data editor   \n",
              "10845                   data privacy & security attorney   \n",
              "10906                                data entry operator   \n",
              "10927                                data entry operator   \n",
              "10929                                   data entry clerk   \n",
              "10939                                    data abstractor   \n",
              "10972  senior preconstruction estimator - data center...   \n",
              "11007                         sales executive, data & ai   \n",
              "11022                              data privacy attorney   \n",
              "\n",
              "      experience_level_mapped  \n",
              "10639                      SE  \n",
              "10641                      SE  \n",
              "10644                      SE  \n",
              "10650                      SE  \n",
              "10656                      SE  \n",
              "10662                      SE  \n",
              "10673                      SE  \n",
              "10680                      SE  \n",
              "10689                      SE  \n",
              "10690                      EN  \n",
              "10692                      SE  \n",
              "10714                      SE  \n",
              "10731                      SE  \n",
              "10739                      SE  \n",
              "10740                      SE  \n",
              "10769                      EN  \n",
              "10779                      EN  \n",
              "10781                      SE  \n",
              "10783                      SE  \n",
              "10786                      EN  \n",
              "10800                      SE  \n",
              "10803                      SE  \n",
              "10845                      SE  \n",
              "10906                      SE  \n",
              "10927                      EN  \n",
              "10929                      EN  \n",
              "10939                      SE  \n",
              "10972                      SE  \n",
              "11007                      SE  \n",
              "11022                      SE  "
            ]
          },
          "execution_count": 23,
          "metadata": {},
          "output_type": "execute_result"
        }
      ],
      "source": [
        "# Step 1: Get top 30 most frequent unknown job titles\n",
        "top_unknowns = final_df_cleaned[final_df_cleaned['final_salary_bracket'] == 'Unknown'][\n",
        "    'job_title_clean_x'].value_counts().head(30).reset_index()\n",
        "top_unknowns.columns = ['job_title_clean_x', 'count']\n",
        "\n",
        "# Step 2: Filter final_df_cleaned to only those top 30 unknowns\n",
        "top_20_unknown_df = final_df_cleaned[\n",
        "    (final_df_cleaned['final_salary_bracket'] == 'Unknown') &\n",
        "    (final_df_cleaned['job_title_clean_x'].isin(top_unknowns['job_title_clean_x']))\n",
        "]\n",
        "\n",
        "# Step 3: View them\n",
        "top_20_unknown_df[['job_title', 'job_title_clean_x', 'experience_level_mapped']].drop_duplicates().head(30)"
      ]
    },
    {
      "cell_type": "code",
      "execution_count": 24,
      "metadata": {
        "colab": {
          "base_uri": "https://localhost:8080/"
        },
        "id": "7zJhILF8NoVZ",
        "outputId": "5d9eaab9-38b3-4cf4-cb0a-2055cf28f7c3"
      },
      "outputs": [
        {
          "data": {
            "text/plain": [
              "array(['Senior Preconstruction Estimator - Data Center Construction'],\n",
              "      dtype=object)"
            ]
          },
          "execution_count": 24,
          "metadata": {},
          "output_type": "execute_result"
        }
      ],
      "source": [
        "final_df_cleaned[final_df_cleaned['job_title'].str.lower().str.contains(\"senior preconstruction estimator\", na=False)]['job_title'].unique()"
      ]
    },
    {
      "cell_type": "code",
      "execution_count": 25,
      "metadata": {
        "colab": {
          "base_uri": "https://localhost:8080/",
          "height": 498
        },
        "id": "Vmgz4uA6NoVZ",
        "outputId": "997e2797-fba6-4955-e142-b6a18b35c9ae"
      },
      "outputs": [
        {
          "data": {
            "text/html": [
              "<div>\n",
              "<style scoped>\n",
              "    .dataframe tbody tr th:only-of-type {\n",
              "        vertical-align: middle;\n",
              "    }\n",
              "\n",
              "    .dataframe tbody tr th {\n",
              "        vertical-align: top;\n",
              "    }\n",
              "\n",
              "    .dataframe thead th {\n",
              "        text-align: right;\n",
              "    }\n",
              "</style>\n",
              "<table border=\"1\" class=\"dataframe\">\n",
              "  <thead>\n",
              "    <tr style=\"text-align: right;\">\n",
              "      <th></th>\n",
              "      <th>job_link</th>\n",
              "      <th>last_processed_time</th>\n",
              "      <th>last_status</th>\n",
              "      <th>got_summary</th>\n",
              "      <th>got_ner</th>\n",
              "      <th>is_being_worked</th>\n",
              "      <th>job_title</th>\n",
              "      <th>company</th>\n",
              "      <th>job_location</th>\n",
              "      <th>first_seen</th>\n",
              "      <th>...</th>\n",
              "      <th>job_summary</th>\n",
              "      <th>job_title_clean_x</th>\n",
              "      <th>experience_level_mapped</th>\n",
              "      <th>job_title_matched</th>\n",
              "      <th>job_title_clean_y</th>\n",
              "      <th>experience_level</th>\n",
              "      <th>avg_salary_in_usd</th>\n",
              "      <th>final_salary</th>\n",
              "      <th>final_salary_bracket</th>\n",
              "      <th>estimated_salary_usd</th>\n",
              "    </tr>\n",
              "  </thead>\n",
              "  <tbody>\n",
              "    <tr>\n",
              "      <th>0</th>\n",
              "      <td>https://www.linkedin.com/jobs/view/senior-mach...</td>\n",
              "      <td>2024-01-21 08:08:48.031964+00</td>\n",
              "      <td>Finished NER</td>\n",
              "      <td>t</td>\n",
              "      <td>t</td>\n",
              "      <td>f</td>\n",
              "      <td>Senior Machine Learning Engineer</td>\n",
              "      <td>Jobs for Humanity</td>\n",
              "      <td>New Haven, CT</td>\n",
              "      <td>2024-01-14</td>\n",
              "      <td>...</td>\n",
              "      <td>Company Description\\nJobs for Humanity is part...</td>\n",
              "      <td>senior machine learning engineer</td>\n",
              "      <td>SE</td>\n",
              "      <td>engineer</td>\n",
              "      <td>engineer</td>\n",
              "      <td>SE</td>\n",
              "      <td>183846.711538</td>\n",
              "      <td>167650.02322</td>\n",
              "      <td>High</td>\n",
              "      <td>NaN</td>\n",
              "    </tr>\n",
              "    <tr>\n",
              "      <th>1</th>\n",
              "      <td>https://www.linkedin.com/jobs/view/principal-s...</td>\n",
              "      <td>2024-01-20 04:02:12.331406+00</td>\n",
              "      <td>Finished NER</td>\n",
              "      <td>t</td>\n",
              "      <td>t</td>\n",
              "      <td>f</td>\n",
              "      <td>Principal Software Engineer, ML Accelerators</td>\n",
              "      <td>Aurora</td>\n",
              "      <td>San Francisco, CA</td>\n",
              "      <td>2024-01-14</td>\n",
              "      <td>...</td>\n",
              "      <td>Who We Are\\nAurora (Nasdaq: AUR) is delivering...</td>\n",
              "      <td>principal software engineer, ml accelerators</td>\n",
              "      <td>SE</td>\n",
              "      <td>engineer</td>\n",
              "      <td>engineer</td>\n",
              "      <td>SE</td>\n",
              "      <td>183846.711538</td>\n",
              "      <td>167650.02322</td>\n",
              "      <td>High</td>\n",
              "      <td>NaN</td>\n",
              "    </tr>\n",
              "    <tr>\n",
              "      <th>2</th>\n",
              "      <td>https://www.linkedin.com/jobs/view/senior-etl-...</td>\n",
              "      <td>2024-01-21 08:08:31.941595+00</td>\n",
              "      <td>Finished NER</td>\n",
              "      <td>t</td>\n",
              "      <td>t</td>\n",
              "      <td>f</td>\n",
              "      <td>Senior ETL Data Warehouse Specialist</td>\n",
              "      <td>Adame Services LLC</td>\n",
              "      <td>New York, NY</td>\n",
              "      <td>2024-01-14</td>\n",
              "      <td>...</td>\n",
              "      <td>Location: New York City, NY\\nPosition Summary\\...</td>\n",
              "      <td>senior etl data warehouse specialist</td>\n",
              "      <td>EN</td>\n",
              "      <td>data specialist</td>\n",
              "      <td>data specialist</td>\n",
              "      <td>EN</td>\n",
              "      <td>65329.433962</td>\n",
              "      <td>82580.701456</td>\n",
              "      <td>Medium</td>\n",
              "      <td>NaN</td>\n",
              "    </tr>\n",
              "    <tr>\n",
              "      <th>3</th>\n",
              "      <td>https://www.linkedin.com/jobs/view/senior-data...</td>\n",
              "      <td>2024-01-20 15:30:55.796572+00</td>\n",
              "      <td>Finished NER</td>\n",
              "      <td>t</td>\n",
              "      <td>t</td>\n",
              "      <td>f</td>\n",
              "      <td>Senior Data Warehouse Developer / Architect</td>\n",
              "      <td>Morph Enterprise</td>\n",
              "      <td>Harrisburg, PA</td>\n",
              "      <td>2024-01-12</td>\n",
              "      <td>...</td>\n",
              "      <td>Responsibilities:\\nCandidate must have signifi...</td>\n",
              "      <td>senior data warehouse developer / architect</td>\n",
              "      <td>SE</td>\n",
              "      <td>architect</td>\n",
              "      <td>architect</td>\n",
              "      <td>SE</td>\n",
              "      <td>176711.808824</td>\n",
              "      <td>176711.808824</td>\n",
              "      <td>High</td>\n",
              "      <td>NaN</td>\n",
              "    </tr>\n",
              "    <tr>\n",
              "      <th>4</th>\n",
              "      <td>https://www.linkedin.com/jobs/view/lead-data-e...</td>\n",
              "      <td>2024-01-21 08:08:58.312124+00</td>\n",
              "      <td>Finished NER</td>\n",
              "      <td>t</td>\n",
              "      <td>t</td>\n",
              "      <td>f</td>\n",
              "      <td>Lead Data Engineer</td>\n",
              "      <td>Dice</td>\n",
              "      <td>Plano, TX</td>\n",
              "      <td>2024-01-14</td>\n",
              "      <td>...</td>\n",
              "      <td>Dice is the leading career destination for tec...</td>\n",
              "      <td>lead data engineer</td>\n",
              "      <td>SE</td>\n",
              "      <td>data engineer</td>\n",
              "      <td>data engineer</td>\n",
              "      <td>SE</td>\n",
              "      <td>159508.844249</td>\n",
              "      <td>146427.799004</td>\n",
              "      <td>High</td>\n",
              "      <td>NaN</td>\n",
              "    </tr>\n",
              "  </tbody>\n",
              "</table>\n",
              "<p>5 rows × 26 columns</p>\n",
              "</div>"
            ],
            "text/plain": [
              "                                            job_link  \\\n",
              "0  https://www.linkedin.com/jobs/view/senior-mach...   \n",
              "1  https://www.linkedin.com/jobs/view/principal-s...   \n",
              "2  https://www.linkedin.com/jobs/view/senior-etl-...   \n",
              "3  https://www.linkedin.com/jobs/view/senior-data...   \n",
              "4  https://www.linkedin.com/jobs/view/lead-data-e...   \n",
              "\n",
              "             last_processed_time   last_status got_summary got_ner  \\\n",
              "0  2024-01-21 08:08:48.031964+00  Finished NER           t       t   \n",
              "1  2024-01-20 04:02:12.331406+00  Finished NER           t       t   \n",
              "2  2024-01-21 08:08:31.941595+00  Finished NER           t       t   \n",
              "3  2024-01-20 15:30:55.796572+00  Finished NER           t       t   \n",
              "4  2024-01-21 08:08:58.312124+00  Finished NER           t       t   \n",
              "\n",
              "  is_being_worked                                     job_title  \\\n",
              "0               f              Senior Machine Learning Engineer   \n",
              "1               f  Principal Software Engineer, ML Accelerators   \n",
              "2               f          Senior ETL Data Warehouse Specialist   \n",
              "3               f   Senior Data Warehouse Developer / Architect   \n",
              "4               f                            Lead Data Engineer   \n",
              "\n",
              "              company       job_location  first_seen  ...  \\\n",
              "0   Jobs for Humanity      New Haven, CT  2024-01-14  ...   \n",
              "1              Aurora  San Francisco, CA  2024-01-14  ...   \n",
              "2  Adame Services LLC       New York, NY  2024-01-14  ...   \n",
              "3    Morph Enterprise     Harrisburg, PA  2024-01-12  ...   \n",
              "4                Dice          Plano, TX  2024-01-14  ...   \n",
              "\n",
              "                                         job_summary  \\\n",
              "0  Company Description\\nJobs for Humanity is part...   \n",
              "1  Who We Are\\nAurora (Nasdaq: AUR) is delivering...   \n",
              "2  Location: New York City, NY\\nPosition Summary\\...   \n",
              "3  Responsibilities:\\nCandidate must have signifi...   \n",
              "4  Dice is the leading career destination for tec...   \n",
              "\n",
              "                              job_title_clean_x experience_level_mapped  \\\n",
              "0              senior machine learning engineer                      SE   \n",
              "1  principal software engineer, ml accelerators                      SE   \n",
              "2          senior etl data warehouse specialist                      EN   \n",
              "3   senior data warehouse developer / architect                      SE   \n",
              "4                            lead data engineer                      SE   \n",
              "\n",
              "  job_title_matched job_title_clean_y experience_level avg_salary_in_usd  \\\n",
              "0          engineer          engineer               SE     183846.711538   \n",
              "1          engineer          engineer               SE     183846.711538   \n",
              "2   data specialist   data specialist               EN      65329.433962   \n",
              "3         architect         architect               SE     176711.808824   \n",
              "4     data engineer     data engineer               SE     159508.844249   \n",
              "\n",
              "    final_salary final_salary_bracket estimated_salary_usd  \n",
              "0   167650.02322                 High                  NaN  \n",
              "1   167650.02322                 High                  NaN  \n",
              "2   82580.701456               Medium                  NaN  \n",
              "3  176711.808824                 High                  NaN  \n",
              "4  146427.799004                 High                  NaN  \n",
              "\n",
              "[5 rows x 26 columns]"
            ]
          },
          "execution_count": 25,
          "metadata": {},
          "output_type": "execute_result"
        }
      ],
      "source": [
        "# Step 1: Define manual salary + bracket patch\n",
        "manual_salary_patch = {\n",
        "    'director, ontology and data modeling': (145000, 'High'),\n",
        "    'quality coach / iqa – it and data apprenticeships': (68000, 'Low'),\n",
        "    'data steward – research analysis spec sr': (95000, 'Medium'),\n",
        "    'data control clerk ii': (58000, 'Low'),\n",
        "    'sales director – data & ai': (130000, 'High'),\n",
        "    'director, data analysis': (138000, 'High'),\n",
        "    'traveling mep superintendent – msg – data centers': (75000, 'Medium'),\n",
        "    'data center supervisor': (70000, 'Low'),\n",
        "    'field data collection service owner': (72000, 'Low'),\n",
        "    'it professional 3 – database administration': (88000, 'Medium'),\n",
        "    'bsa/aml investigator i': (91000, 'Medium'),\n",
        "    'data steward': (87000, 'Medium'),\n",
        "    'director, securities data oversight': (140000, 'High'),\n",
        "    'senior director, data science': (160000, 'High'),\n",
        "    'mandataire immobilier (h/f)': (60000, 'Low'),\n",
        "    'regional cooling service expert (data center center cooling)': (74000, 'Low'),\n",
        "    'data entry clerk': (54000, 'Low'),\n",
        "    'senior data entry operator': (60000, 'Low'),\n",
        "    'senior data platforms administrator': (92000, 'Medium'),\n",
        "    'road data collection surveyor': (67000, 'Low'),\n",
        "    'data editor': (72000, 'Low'),\n",
        "    'data privacy & security attorney': (125000, 'Medium'),\n",
        "    'data entry operator': (58000, 'Low'),\n",
        "    'data abstractor': (69000, 'Low'),\n",
        "    'senior preconstruction estimator - data center construction': (88000, 'Medium'),\n",
        "    'sales executive, data & ai': (95000, 'Medium'),\n",
        "    'data privacy attorney': (122000, 'Medium')\n",
        "}\n",
        "\n",
        "# Step 2: Apply the patch to final_df_cleaned\n",
        "for title, (salary, bracket) in manual_salary_patch.items():\n",
        "    mask = final_df_cleaned['job_title_clean_x'].str.strip().str.lower() == title\n",
        "    final_df_cleaned.loc[mask, 'final_salary'] = salary\n",
        "    final_df_cleaned.loc[mask, 'estimated_salary_usd'] = salary\n",
        "    final_df_cleaned.loc[mask, 'final_salary_bracket'] = bracket\n",
        "\n",
        "# Step 3: Check the updated DataFrame\n",
        "final_df_cleaned.head()"
      ]
    },
    {
      "cell_type": "code",
      "execution_count": 26,
      "metadata": {
        "colab": {
          "base_uri": "https://localhost:8080/"
        },
        "id": "wnXk-O54NoVZ",
        "outputId": "d6ec00d8-54bf-4bd4-e382-846ee11d396d"
      },
      "outputs": [
        {
          "name": "stdout",
          "output_type": "stream",
          "text": [
            "final_salary_bracket\n",
            "High       6015\n",
            "Medium     4329\n",
            "Unknown     834\n",
            "Low         425\n",
            "Name: count, dtype: int64\n"
          ]
        }
      ],
      "source": [
        "print(final_df_cleaned['final_salary_bracket'].value_counts())"
      ]
    },
    {
      "cell_type": "code",
      "execution_count": 27,
      "metadata": {
        "colab": {
          "base_uri": "https://localhost:8080/",
          "height": 556
        },
        "id": "7vm2W2ofNoVZ",
        "outputId": "a9ae1ea3-8178-46c3-e78c-b58110e00ad5"
      },
      "outputs": [
        {
          "data": {
            "text/html": [
              "<div>\n",
              "<style scoped>\n",
              "    .dataframe tbody tr th:only-of-type {\n",
              "        vertical-align: middle;\n",
              "    }\n",
              "\n",
              "    .dataframe tbody tr th {\n",
              "        vertical-align: top;\n",
              "    }\n",
              "\n",
              "    .dataframe thead th {\n",
              "        text-align: right;\n",
              "    }\n",
              "</style>\n",
              "<table border=\"1\" class=\"dataframe\">\n",
              "  <thead>\n",
              "    <tr style=\"text-align: right;\">\n",
              "      <th></th>\n",
              "      <th>job_title</th>\n",
              "      <th>company</th>\n",
              "      <th>job_location</th>\n",
              "      <th>job_level</th>\n",
              "      <th>job_type</th>\n",
              "      <th>job_skills</th>\n",
              "      <th>job_summary</th>\n",
              "      <th>experience_level_mapped</th>\n",
              "      <th>estimated_salary_usd</th>\n",
              "      <th>salary_bracket</th>\n",
              "    </tr>\n",
              "  </thead>\n",
              "  <tbody>\n",
              "    <tr>\n",
              "      <th>0</th>\n",
              "      <td>senior machine learning engineer</td>\n",
              "      <td>Jobs for Humanity</td>\n",
              "      <td>New Haven, CT</td>\n",
              "      <td>Mid senior</td>\n",
              "      <td>Onsite</td>\n",
              "      <td>Machine Learning, Programming, Python, Scala, ...</td>\n",
              "      <td>Company Description\\nJobs for Humanity is part...</td>\n",
              "      <td>SE</td>\n",
              "      <td>167650</td>\n",
              "      <td>High</td>\n",
              "    </tr>\n",
              "    <tr>\n",
              "      <th>1</th>\n",
              "      <td>principal software engineer, ml accelerators</td>\n",
              "      <td>Aurora</td>\n",
              "      <td>San Francisco, CA</td>\n",
              "      <td>Mid senior</td>\n",
              "      <td>Onsite</td>\n",
              "      <td>C++, Python, PyTorch, TensorFlow, MXNet, CUDA,...</td>\n",
              "      <td>Who We Are\\nAurora (Nasdaq: AUR) is delivering...</td>\n",
              "      <td>SE</td>\n",
              "      <td>167650</td>\n",
              "      <td>High</td>\n",
              "    </tr>\n",
              "    <tr>\n",
              "      <th>2</th>\n",
              "      <td>senior etl data warehouse specialist</td>\n",
              "      <td>Adame Services LLC</td>\n",
              "      <td>New York, NY</td>\n",
              "      <td>Associate</td>\n",
              "      <td>Onsite</td>\n",
              "      <td>ETL, Data Integration, Data Transformation, Da...</td>\n",
              "      <td>Location: New York City, NY\\nPosition Summary\\...</td>\n",
              "      <td>EN</td>\n",
              "      <td>82581</td>\n",
              "      <td>Medium</td>\n",
              "    </tr>\n",
              "    <tr>\n",
              "      <th>3</th>\n",
              "      <td>senior data warehouse developer / architect</td>\n",
              "      <td>Morph Enterprise</td>\n",
              "      <td>Harrisburg, PA</td>\n",
              "      <td>Mid senior</td>\n",
              "      <td>Onsite</td>\n",
              "      <td>Data Lakes, Data Bricks, Azure Data Factory Pi...</td>\n",
              "      <td>Responsibilities:\\nCandidate must have signifi...</td>\n",
              "      <td>SE</td>\n",
              "      <td>176712</td>\n",
              "      <td>High</td>\n",
              "    </tr>\n",
              "    <tr>\n",
              "      <th>4</th>\n",
              "      <td>lead data engineer</td>\n",
              "      <td>Dice</td>\n",
              "      <td>Plano, TX</td>\n",
              "      <td>Mid senior</td>\n",
              "      <td>Onsite</td>\n",
              "      <td>Java, Scala, Python, RDBMS, NoSQL, Redshift, S...</td>\n",
              "      <td>Dice is the leading career destination for tec...</td>\n",
              "      <td>SE</td>\n",
              "      <td>146428</td>\n",
              "      <td>High</td>\n",
              "    </tr>\n",
              "  </tbody>\n",
              "</table>\n",
              "</div>"
            ],
            "text/plain": [
              "                                      job_title             company  \\\n",
              "0              senior machine learning engineer   Jobs for Humanity   \n",
              "1  principal software engineer, ml accelerators              Aurora   \n",
              "2          senior etl data warehouse specialist  Adame Services LLC   \n",
              "3   senior data warehouse developer / architect    Morph Enterprise   \n",
              "4                            lead data engineer                Dice   \n",
              "\n",
              "        job_location   job_level job_type  \\\n",
              "0      New Haven, CT  Mid senior   Onsite   \n",
              "1  San Francisco, CA  Mid senior   Onsite   \n",
              "2       New York, NY   Associate   Onsite   \n",
              "3     Harrisburg, PA  Mid senior   Onsite   \n",
              "4          Plano, TX  Mid senior   Onsite   \n",
              "\n",
              "                                          job_skills  \\\n",
              "0  Machine Learning, Programming, Python, Scala, ...   \n",
              "1  C++, Python, PyTorch, TensorFlow, MXNet, CUDA,...   \n",
              "2  ETL, Data Integration, Data Transformation, Da...   \n",
              "3  Data Lakes, Data Bricks, Azure Data Factory Pi...   \n",
              "4  Java, Scala, Python, RDBMS, NoSQL, Redshift, S...   \n",
              "\n",
              "                                         job_summary experience_level_mapped  \\\n",
              "0  Company Description\\nJobs for Humanity is part...                      SE   \n",
              "1  Who We Are\\nAurora (Nasdaq: AUR) is delivering...                      SE   \n",
              "2  Location: New York City, NY\\nPosition Summary\\...                      EN   \n",
              "3  Responsibilities:\\nCandidate must have signifi...                      SE   \n",
              "4  Dice is the leading career destination for tec...                      SE   \n",
              "\n",
              "   estimated_salary_usd salary_bracket  \n",
              "0                167650           High  \n",
              "1                167650           High  \n",
              "2                 82581         Medium  \n",
              "3                176712           High  \n",
              "4                146428           High  "
            ]
          },
          "execution_count": 27,
          "metadata": {},
          "output_type": "execute_result"
        }
      ],
      "source": [
        "# Select relevant columns for analysis\n",
        "final_df_cleaned = final_df_cleaned[[\n",
        "    'job_title_clean_x', 'company', 'job_location', 'job_level', 'job_type',\n",
        "    'job_skills', 'job_summary', 'experience_level_mapped',\n",
        "    'final_salary', 'final_salary_bracket'\n",
        "]]\n",
        "\n",
        "# Rename columns for final output\n",
        "final_df_cleaned = final_df_cleaned.rename(columns={\n",
        "    'job_title_clean_x': 'job_title',\n",
        "    'final_salary': 'estimated_salary_usd',\n",
        "    'final_salary_bracket': 'salary_bracket'\n",
        "})\n",
        "\n",
        "# Convert to numeric (handles non-numeric values gracefully)\n",
        "final_df_cleaned['estimated_salary_usd'] = pd.to_numeric(\n",
        "    final_df_cleaned['estimated_salary_usd'], errors='coerce'\n",
        ")\n",
        "\n",
        "# Round and cast to Int64 (nullable integer)\n",
        "final_df_cleaned['estimated_salary_usd'] = final_df_cleaned['estimated_salary_usd'].round(0).astype('Int64')\n",
        "\n",
        "# Preview the cleaned dataset\n",
        "final_df_cleaned.head()"
      ]
    },
    {
      "cell_type": "markdown",
      "metadata": {
        "id": "COUxkrRe56P7"
      },
      "source": [
        "#### **🧹 Data Cleaning**"
      ]
    },
    {
      "cell_type": "code",
      "execution_count": 28,
      "metadata": {
        "colab": {
          "base_uri": "https://localhost:8080/"
        },
        "id": "c2nWfONrNoVZ",
        "outputId": "20224beb-4d89-4e6b-aa7b-81d9c2fe3ffe"
      },
      "outputs": [
        {
          "name": "stdout",
          "output_type": "stream",
          "text": [
            "Missing Values: job_title                    0\n",
            "company                      0\n",
            "job_location                 1\n",
            "job_level                    0\n",
            "job_type                     0\n",
            "job_skills                   4\n",
            "job_summary                  0\n",
            "experience_level_mapped      0\n",
            "estimated_salary_usd       834\n",
            "salary_bracket               0\n",
            "dtype: int64\n"
          ]
        }
      ],
      "source": [
        "# Check how many missing values in each column\n",
        "missing = final_df_cleaned.isnull().sum()\n",
        "\n",
        "# Show only columns with at least 1 missing value\n",
        "print(\"Missing Values:\",missing)"
      ]
    },
    {
      "cell_type": "code",
      "execution_count": 29,
      "metadata": {
        "colab": {
          "base_uri": "https://localhost:8080/"
        },
        "id": "ScSbnzxLNoVZ",
        "outputId": "740e65d7-33f9-4fc9-e498-60984fda9655"
      },
      "outputs": [],
      "source": [
        "# Drop the row with missing job location\n",
        "final_df_cleaned = final_df_cleaned.dropna(subset=['job_location'])\n",
        "\n",
        "# Fill missing skills with placeholder\n",
        "final_df_cleaned['job_skills'] = final_df_cleaned['job_skills'].fillna(\"Not Mentioned\")\n"
      ]
    },
    {
      "cell_type": "code",
      "execution_count": 30,
      "metadata": {
        "id": "bFObqxyKNoVZ"
      },
      "outputs": [],
      "source": [
        "# Drop duplicate rows if any\n",
        "final_df_cleaned = final_df_cleaned.drop_duplicates()"
      ]
    },
    {
      "cell_type": "code",
      "execution_count": 31,
      "metadata": {
        "id": "dxpL6udFNoVa"
      },
      "outputs": [],
      "source": [
        "# Checking for whitespace in job skills\n",
        "final_df_cleaned['job_skills'] = final_df_cleaned['job_skills'].replace(r'^\\s*$', 'Not Mentioned', regex=True)"
      ]
    },
    {
      "cell_type": "code",
      "execution_count": 32,
      "metadata": {
        "colab": {
          "base_uri": "https://localhost:8080/"
        },
        "id": "iCPpffe_NoVa",
        "outputId": "ec6f8479-4d0f-440a-9fb9-3730d345c490"
      },
      "outputs": [
        {
          "name": "stdout",
          "output_type": "stream",
          "text": [
            "<class 'pandas.core.frame.DataFrame'>\n",
            "Index: 11602 entries, 0 to 11602\n",
            "Data columns (total 10 columns):\n",
            " #   Column                   Non-Null Count  Dtype \n",
            "---  ------                   --------------  ----- \n",
            " 0   job_title                11602 non-null  object\n",
            " 1   company                  11602 non-null  object\n",
            " 2   job_location             11602 non-null  object\n",
            " 3   job_level                11602 non-null  object\n",
            " 4   job_type                 11602 non-null  object\n",
            " 5   job_skills               11602 non-null  object\n",
            " 6   job_summary              11602 non-null  object\n",
            " 7   experience_level_mapped  11602 non-null  object\n",
            " 8   estimated_salary_usd     10768 non-null  Int64 \n",
            " 9   salary_bracket           11602 non-null  object\n",
            "dtypes: Int64(1), object(9)\n",
            "memory usage: 1008.4+ KB\n"
          ]
        }
      ],
      "source": [
        "final_df_cleaned.info()"
      ]
    },
    {
      "cell_type": "code",
      "execution_count": 33,
      "metadata": {
        "colab": {
          "base_uri": "https://localhost:8080/",
          "height": 300
        },
        "id": "LH1FsOEvNoVa",
        "outputId": "19daa3e6-ff3c-48e5-f710-cfdd4c5eb2df"
      },
      "outputs": [
        {
          "data": {
            "text/html": [
              "<div>\n",
              "<style scoped>\n",
              "    .dataframe tbody tr th:only-of-type {\n",
              "        vertical-align: middle;\n",
              "    }\n",
              "\n",
              "    .dataframe tbody tr th {\n",
              "        vertical-align: top;\n",
              "    }\n",
              "\n",
              "    .dataframe thead th {\n",
              "        text-align: right;\n",
              "    }\n",
              "</style>\n",
              "<table border=\"1\" class=\"dataframe\">\n",
              "  <thead>\n",
              "    <tr style=\"text-align: right;\">\n",
              "      <th></th>\n",
              "      <th>estimated_salary_usd</th>\n",
              "    </tr>\n",
              "  </thead>\n",
              "  <tbody>\n",
              "    <tr>\n",
              "      <th>count</th>\n",
              "      <td>10768.0</td>\n",
              "    </tr>\n",
              "    <tr>\n",
              "      <th>mean</th>\n",
              "      <td>131760.000836</td>\n",
              "    </tr>\n",
              "    <tr>\n",
              "      <th>std</th>\n",
              "      <td>32839.58323</td>\n",
              "    </tr>\n",
              "    <tr>\n",
              "      <th>min</th>\n",
              "      <td>37500.0</td>\n",
              "    </tr>\n",
              "    <tr>\n",
              "      <th>25%</th>\n",
              "      <td>108919.0</td>\n",
              "    </tr>\n",
              "    <tr>\n",
              "      <th>50%</th>\n",
              "      <td>129396.0</td>\n",
              "    </tr>\n",
              "    <tr>\n",
              "      <th>75%</th>\n",
              "      <td>157393.0</td>\n",
              "    </tr>\n",
              "    <tr>\n",
              "      <th>max</th>\n",
              "      <td>399880.0</td>\n",
              "    </tr>\n",
              "  </tbody>\n",
              "</table>\n",
              "</div>"
            ],
            "text/plain": [
              "       estimated_salary_usd\n",
              "count               10768.0\n",
              "mean          131760.000836\n",
              "std             32839.58323\n",
              "min                 37500.0\n",
              "25%                108919.0\n",
              "50%                129396.0\n",
              "75%                157393.0\n",
              "max                399880.0"
            ]
          },
          "execution_count": 33,
          "metadata": {},
          "output_type": "execute_result"
        }
      ],
      "source": [
        "# Check the distribution of estimated salaries\n",
        "final_df_cleaned.describe()"
      ]
    },
    {
      "cell_type": "code",
      "execution_count": 34,
      "metadata": {
        "id": "-s-BcB-INoVa"
      },
      "outputs": [],
      "source": [
        "unique_locations = pd.DataFrame(final_df_cleaned['job_location'].dropna().unique(), columns=['job_location'])\n",
        "unique_locations.to_csv(\"unique_job_locations.csv\", index=False)"
      ]
    },
    {
      "cell_type": "code",
      "execution_count": 35,
      "metadata": {
        "id": "zr0a_uK0NoVa"
      },
      "outputs": [],
      "source": [
        "# Load the non-U.S. locations from text file\n",
        "with open('unique_job_locations.csv', 'r') as f:\n",
        "    non_us_locations_list = [line.strip().lower() for line in f.readlines() if line.strip()]\n",
        "\n",
        "# Normalize job_location in your DataFrame\n",
        "final_df_cleaned['job_location'] = final_df_cleaned['job_location'].astype(str).str.strip().str.lower()\n",
        "\n",
        "# Drop non-U.S. rows\n",
        "final_df_cleaned = final_df_cleaned[~final_df_cleaned['job_location'].isin(non_us_locations_list)].copy()\n",
        "\n",
        "# Reset index\n",
        "final_df_cleaned.reset_index(drop=True, inplace=True)"
      ]
    },
    {
      "cell_type": "code",
      "execution_count": 36,
      "metadata": {
        "colab": {
          "base_uri": "https://localhost:8080/",
          "height": 556
        },
        "id": "2cn6BYn6NoVa",
        "outputId": "769b01b8-c188-4ae7-9f56-203faa998b30"
      },
      "outputs": [
        {
          "data": {
            "text/html": [
              "<div>\n",
              "<style scoped>\n",
              "    .dataframe tbody tr th:only-of-type {\n",
              "        vertical-align: middle;\n",
              "    }\n",
              "\n",
              "    .dataframe tbody tr th {\n",
              "        vertical-align: top;\n",
              "    }\n",
              "\n",
              "    .dataframe thead th {\n",
              "        text-align: right;\n",
              "    }\n",
              "</style>\n",
              "<table border=\"1\" class=\"dataframe\">\n",
              "  <thead>\n",
              "    <tr style=\"text-align: right;\">\n",
              "      <th></th>\n",
              "      <th>job_title</th>\n",
              "      <th>company</th>\n",
              "      <th>job_location</th>\n",
              "      <th>job_level</th>\n",
              "      <th>job_type</th>\n",
              "      <th>job_skills</th>\n",
              "      <th>job_summary</th>\n",
              "      <th>experience_level_mapped</th>\n",
              "      <th>estimated_salary_usd</th>\n",
              "      <th>salary_bracket</th>\n",
              "    </tr>\n",
              "  </thead>\n",
              "  <tbody>\n",
              "    <tr>\n",
              "      <th>0</th>\n",
              "      <td>senior machine learning engineer</td>\n",
              "      <td>Jobs for Humanity</td>\n",
              "      <td>new haven, ct</td>\n",
              "      <td>Mid senior</td>\n",
              "      <td>Onsite</td>\n",
              "      <td>Machine Learning, Programming, Python, Scala, ...</td>\n",
              "      <td>Company Description\\nJobs for Humanity is part...</td>\n",
              "      <td>SE</td>\n",
              "      <td>167650</td>\n",
              "      <td>High</td>\n",
              "    </tr>\n",
              "    <tr>\n",
              "      <th>1</th>\n",
              "      <td>principal software engineer, ml accelerators</td>\n",
              "      <td>Aurora</td>\n",
              "      <td>san francisco, ca</td>\n",
              "      <td>Mid senior</td>\n",
              "      <td>Onsite</td>\n",
              "      <td>C++, Python, PyTorch, TensorFlow, MXNet, CUDA,...</td>\n",
              "      <td>Who We Are\\nAurora (Nasdaq: AUR) is delivering...</td>\n",
              "      <td>SE</td>\n",
              "      <td>167650</td>\n",
              "      <td>High</td>\n",
              "    </tr>\n",
              "    <tr>\n",
              "      <th>2</th>\n",
              "      <td>senior etl data warehouse specialist</td>\n",
              "      <td>Adame Services LLC</td>\n",
              "      <td>new york, ny</td>\n",
              "      <td>Associate</td>\n",
              "      <td>Onsite</td>\n",
              "      <td>ETL, Data Integration, Data Transformation, Da...</td>\n",
              "      <td>Location: New York City, NY\\nPosition Summary\\...</td>\n",
              "      <td>EN</td>\n",
              "      <td>82581</td>\n",
              "      <td>Medium</td>\n",
              "    </tr>\n",
              "    <tr>\n",
              "      <th>3</th>\n",
              "      <td>senior data warehouse developer / architect</td>\n",
              "      <td>Morph Enterprise</td>\n",
              "      <td>harrisburg, pa</td>\n",
              "      <td>Mid senior</td>\n",
              "      <td>Onsite</td>\n",
              "      <td>Data Lakes, Data Bricks, Azure Data Factory Pi...</td>\n",
              "      <td>Responsibilities:\\nCandidate must have signifi...</td>\n",
              "      <td>SE</td>\n",
              "      <td>176712</td>\n",
              "      <td>High</td>\n",
              "    </tr>\n",
              "    <tr>\n",
              "      <th>4</th>\n",
              "      <td>lead data engineer</td>\n",
              "      <td>Dice</td>\n",
              "      <td>plano, tx</td>\n",
              "      <td>Mid senior</td>\n",
              "      <td>Onsite</td>\n",
              "      <td>Java, Scala, Python, RDBMS, NoSQL, Redshift, S...</td>\n",
              "      <td>Dice is the leading career destination for tec...</td>\n",
              "      <td>SE</td>\n",
              "      <td>146428</td>\n",
              "      <td>High</td>\n",
              "    </tr>\n",
              "  </tbody>\n",
              "</table>\n",
              "</div>"
            ],
            "text/plain": [
              "                                      job_title             company  \\\n",
              "0              senior machine learning engineer   Jobs for Humanity   \n",
              "1  principal software engineer, ml accelerators              Aurora   \n",
              "2          senior etl data warehouse specialist  Adame Services LLC   \n",
              "3   senior data warehouse developer / architect    Morph Enterprise   \n",
              "4                            lead data engineer                Dice   \n",
              "\n",
              "        job_location   job_level job_type  \\\n",
              "0      new haven, ct  Mid senior   Onsite   \n",
              "1  san francisco, ca  Mid senior   Onsite   \n",
              "2       new york, ny   Associate   Onsite   \n",
              "3     harrisburg, pa  Mid senior   Onsite   \n",
              "4          plano, tx  Mid senior   Onsite   \n",
              "\n",
              "                                          job_skills  \\\n",
              "0  Machine Learning, Programming, Python, Scala, ...   \n",
              "1  C++, Python, PyTorch, TensorFlow, MXNet, CUDA,...   \n",
              "2  ETL, Data Integration, Data Transformation, Da...   \n",
              "3  Data Lakes, Data Bricks, Azure Data Factory Pi...   \n",
              "4  Java, Scala, Python, RDBMS, NoSQL, Redshift, S...   \n",
              "\n",
              "                                         job_summary experience_level_mapped  \\\n",
              "0  Company Description\\nJobs for Humanity is part...                      SE   \n",
              "1  Who We Are\\nAurora (Nasdaq: AUR) is delivering...                      SE   \n",
              "2  Location: New York City, NY\\nPosition Summary\\...                      EN   \n",
              "3  Responsibilities:\\nCandidate must have signifi...                      SE   \n",
              "4  Dice is the leading career destination for tec...                      SE   \n",
              "\n",
              "   estimated_salary_usd salary_bracket  \n",
              "0                167650           High  \n",
              "1                167650           High  \n",
              "2                 82581         Medium  \n",
              "3                176712           High  \n",
              "4                146428           High  "
            ]
          },
          "execution_count": 36,
          "metadata": {},
          "output_type": "execute_result"
        }
      ],
      "source": [
        "final_df_cleaned.head()"
      ]
    },
    {
      "cell_type": "code",
      "execution_count": 37,
      "metadata": {
        "colab": {
          "base_uri": "https://localhost:8080/",
          "height": 178
        },
        "id": "bopWDaclNoVa",
        "outputId": "91369042-3d5d-4829-cd38-0887fd1ec227"
      },
      "outputs": [
        {
          "data": {
            "text/plain": [
              "experience_level_mapped\n",
              "SE    10195\n",
              "EN     1117\n",
              "Name: count, dtype: int64"
            ]
          },
          "execution_count": 37,
          "metadata": {},
          "output_type": "execute_result"
        }
      ],
      "source": [
        "# Check if all experience levels now have salary data\n",
        "final_df_cleaned['experience_level_mapped'].value_counts()"
      ]
    },
    {
      "cell_type": "markdown",
      "metadata": {
        "id": "OGRlexJMNoVa"
      },
      "source": [
        "## **Phase 3: Our analysis 📊**"
      ]
    },
    {
      "cell_type": "markdown",
      "metadata": {
        "id": "ZBe-TOPmNoVf"
      },
      "source": [
        "### 3.1 Core Research Questions:\n",
        "1. Which AI/ML job roles are currently most in demand across the U.S., and how do their average salaries compare?\n",
        "2. How does the average salary differ across experience levels (Entry, Mid, Senior, Executive) in AI/ML roles?\n",
        "3. How does demand for AI/ML job roles vary across different U.S. states?\n",
        "4. Do remote AI/ML roles offer significantly different salaries compared to on-site or hybrid roles?\n",
        "5. Which companies are the most active recruiters in the AI/ML space, and are their salary offerings above or below the industry average?\n",
        "6. What are the most commonly required technical skills in AI/ML job descriptions, and how do they vary by job title?\n",
        "7. Is there a correlation between the number of listed skills in a job description and the offered salary?\n"
      ]
    },
    {
      "cell_type": "markdown",
      "metadata": {
        "id": "DorHlAmTNoVf"
      },
      "source": [
        "### 3.2 Coded Exploratory Data Analysis (EDA)"
      ]
    },
    {
      "cell_type": "markdown",
      "metadata": {
        "id": "OGULiYgmNoVf"
      },
      "source": [
        "#### **Q1.\tWhich AI/ML job roles are currently most in demand across the U.S., and how do their average salaries compare?**"
      ]
    },
    {
      "cell_type": "code",
      "execution_count": 38,
      "metadata": {
        "colab": {
          "base_uri": "https://localhost:8080/",
          "height": 454
        },
        "id": "oMOi2YvVNoVf",
        "outputId": "8ff6c32b-f80c-43db-a0d7-af8f8f043046"
      },
      "outputs": [
        {
          "data": {
            "image/png": "[encoded data removed]",
            "text/plain": [
              "<Figure size 1400x700 with 1 Axes>"
            ]
          },
          "metadata": {},
          "output_type": "display_data"
        }
      ],
      "source": [
        "import pandas as pd\n",
        "import matplotlib.pyplot as plt\n",
        "import seaborn as sns\n",
        "import numpy as np\n",
        "\n",
        "# Step 1: Group and calculate\n",
        "summary = final_df_cleaned.groupby('job_title').agg({\n",
        "    'estimated_salary_usd': 'mean',\n",
        "    'job_title': 'count'\n",
        "}).rename(columns={'job_title': 'count', 'estimated_salary_usd': 'avg_salary'}).reset_index()\n",
        "\n",
        "# Step 2: Get top 10 job roles by demand\n",
        "top_summary = summary.sort_values(by='count', ascending=False).head(10)\n",
        "\n",
        "# Step 3: Scale salary to thousands\n",
        "top_summary['avg_salary_k'] = top_summary['avg_salary'] / 1000\n",
        "\n",
        "# Step 4: Sort in ascending order for horizontal bar chart (so largest is at top)\n",
        "top_summary_sorted = top_summary.sort_values(by='count', ascending=True)\n",
        "\n",
        "# Step 5: Plot with correct Y-axis order (largest on top)\n",
        "bar_width = 0.4\n",
        "index = np.arange(len(top_summary_sorted))\n",
        "\n",
        "plt.figure(figsize=(14, 7))\n",
        "plt.barh(index, top_summary_sorted['count'], bar_width, label='Job Postings', color='skyblue')\n",
        "plt.barh(index + bar_width, top_summary_sorted['avg_salary_k'], bar_width, label='Avg Salary (in $1,000s)', color='salmon')\n",
        "\n",
        "# Step 6: Fix labels and formatting\n",
        "plt.yticks(index + bar_width / 2, top_summary_sorted['job_title'])\n",
        "plt.xlabel('Job Postings / Avg Salary (in Thousands)')\n",
        "plt.title('Top 10 In-Demand AI/ML Job Roles (Descending) with Avg Salary')\n",
        "plt.legend()\n",
        "plt.grid(axis='x', linestyle='--', alpha=0.4)\n",
        "plt.tight_layout()\n",
        "plt.show()"
      ]
    },
    {
      "cell_type": "markdown",
      "metadata": {
        "id": "tb9jzoxNNoVf"
      },
      "source": [
        "**Conclusion :** The most in-demand AI/ML job in the U.S. is Senior Data Engineer, followed by Senior Data Analyst and Data Engineer. These roles have the highest number of job openings. However, some roles like Data Architect and Senior Data Scientist offer much higher salaries, even if they are not the most common. This means that jobs with more openings don’t always pay the highest."
      ]
    },
    {
      "cell_type": "markdown",
      "metadata": {
        "id": "6u5PzFmpNoVf"
      },
      "source": [
        "#### **Q2.\tHow does the average salary differ across experience levels (Associate, Senior) in AI/ML roles?**"
      ]
    },
    {
      "cell_type": "code",
      "execution_count": 39,
      "metadata": {
        "colab": {
          "base_uri": "https://localhost:8080/"
        },
        "id": "5dN27T4yNoVf",
        "outputId": "cd0bb1df-f0f6-47cb-9d5f-2c08f21a0b82"
      },
      "outputs": [
        {
          "name": "stdout",
          "output_type": "stream",
          "text": [
            "📊 Independent T-Test Result:\n",
            "T-statistic: -14.2840\n",
            "P-value: 0.0000\n",
            "✅ The salary difference between Entry and Senior levels is statistically significant (p < 0.05).\n"
          ]
        }
      ],
      "source": [
        "from scipy.stats import ttest_ind\n",
        "\n",
        "# Step 1: Filter the two groups\n",
        "en_salaries = final_df_cleaned[final_df_cleaned['experience_level_mapped'] == 'EN']['estimated_salary_usd'].dropna()\n",
        "se_salaries = final_df_cleaned[final_df_cleaned['experience_level_mapped'] == 'SE']['estimated_salary_usd'].dropna()\n",
        "\n",
        "# Step 2: Run independent t-test\n",
        "t_stat, p_value = ttest_ind(en_salaries, se_salaries, equal_var=False)  # Welch's t-test (assumes unequal variances)\n",
        "\n",
        "# Step 3: Display results\n",
        "print(\"📊 Independent T-Test Result:\")\n",
        "print(f\"T-statistic: {t_stat:.4f}\")\n",
        "print(f\"P-value: {p_value:.4f}\")\n",
        "\n",
        "# Step 4 (Optional): Interpret result\n",
        "if p_value < 0.05:\n",
        "    print(\"✅ The salary difference between Entry and Senior levels is statistically significant (p < 0.05).\")\n",
        "else:\n",
        "    print(\"❌ The salary difference is not statistically significant (p ≥ 0.05).\")\n"
      ]
    },
    {
      "cell_type": "markdown",
      "metadata": {
        "id": "CWbA8-qvTP1w"
      },
      "source": [
        "**Conclusion :** The independent t-test results show a T-statistic of -14.28 and a p-value < 0.0001, indicating that the difference in average salaries between Entry-level (EN) and Senior-level (SE) AI/ML roles is statistically significant.\n",
        "\n",
        "This means that the observed difference in salaries is not due to random variation, and we can confidently conclude that Senior-level roles offer significantly higher salaries than Entry-level roles in the U.S. AI/ML job market."
      ]
    },
    {
      "cell_type": "markdown",
      "metadata": {
        "id": "ZnjvJv9gNoVg"
      },
      "source": [
        "#### **Q3.\tHow does demand for AI/ML job roles vary across different U.S. states?**"
      ]
    },
    {
      "cell_type": "code",
      "execution_count": 40,
      "metadata": {
        "colab": {
          "base_uri": "https://localhost:8080/",
          "height": 490
        },
        "id": "dbGOs3aFNoVg",
        "outputId": "4d73c86c-ccea-494d-b794-3c391f87b022"
      },
      "outputs": [
        {
          "data": {
            "image/png": "[encoded data removed]",
            "text/plain": [
              "<Figure size 1600x800 with 2 Axes>"
            ]
          },
          "metadata": {},
          "output_type": "display_data"
        }
      ],
      "source": [
        "import pandas as pd\n",
        "import matplotlib.pyplot as plt\n",
        "import seaborn as sns\n",
        "\n",
        "# Step 1: Make sure your job titles and states are clean\n",
        "final_df_cleaned['job_title'] = final_df_cleaned['job_title'].astype(str).str.lower().str.strip()\n",
        "final_df_cleaned['job_location'] = final_df_cleaned['job_location'].astype(str).str.strip()\n",
        "\n",
        "# Split job_location to get U.S. state abbreviation\n",
        "final_df_cleaned[['job_city', 'job_state']] = final_df_cleaned['job_location'].str.split(',', n=1, expand=True)\n",
        "final_df_cleaned['job_state'] = final_df_cleaned['job_state'].str.strip().str.upper()\n",
        "\n",
        "# Filter to only valid U.S. states\n",
        "us_states = ['AL', 'AK', 'AZ', 'AR', 'CA', 'CO', 'CT', 'DE', 'FL', 'GA', 'HI', 'ID', 'IL', 'IN', 'IA', 'KS', 'KY',\n",
        "             'LA', 'ME', 'MD', 'MA', 'MI', 'MN', 'MS', 'MO', 'MT', 'NE', 'NV', 'NH', 'NJ', 'NM', 'NY', 'NC',\n",
        "             'ND', 'OH', 'OK', 'OR', 'PA', 'RI', 'SC', 'SD', 'TN', 'TX', 'UT', 'VT', 'VA', 'WA', 'WV', 'WI', 'WY', 'DC']\n",
        "final_df_cleaned = final_df_cleaned[final_df_cleaned['job_state'].isin(us_states)]\n",
        "\n",
        "# Step 2: Create pivot table\n",
        "pivot_df = final_df_cleaned.pivot_table(\n",
        "    index='job_title', columns='job_state', aggfunc='size', fill_value=0\n",
        ")\n",
        "\n",
        "# Optional: keep top N job titles based on total postings\n",
        "top_roles = pivot_df.sum(axis=1).sort_values(ascending=False).head(10).index\n",
        "pivot_df_top = pivot_df.loc[top_roles]\n",
        "\n",
        "# Step 3: Plot heatmap\n",
        "plt.figure(figsize=(16, 8))\n",
        "sns.heatmap(pivot_df_top, cmap=\"YlGnBu\", annot=True, fmt='d', linewidths=0.5, linecolor='gray')\n",
        "\n",
        "plt.title(\"Heatmap of AI/ML Job Roles by U.S. State (Top 10 Roles)\", fontsize=14)\n",
        "plt.xlabel(\"U.S. State\")\n",
        "plt.ylabel(\"Job Title\")\n",
        "plt.xticks(rotation=45)\n",
        "plt.yticks(rotation=0)\n",
        "plt.tight_layout()\n",
        "plt.show()"
      ]
    },
    {
      "cell_type": "markdown",
      "metadata": {
        "id": "TOB0F0IMNoVg"
      },
      "source": [
        "**Conclusion :** The heatmap reveals that California (CA) leads the U.S. in demand for nearly every major AI/ML role, especially for Senior Data Engineers and Staff Machine Learning Engineers.\n",
        "Other states like Texas (TX), Virginia (VA), and New York (NY) also show high concentrations of AI/ML job roles across the board.\n",
        "Notably, roles such as Senior MLOps Engineer and Senior Data Analyst are more distributed across states like Illinois (IL) and Florida (FL) as well.\n",
        "\n",
        "This variation highlights how AI/ML talent demand is both role- and region-specific, which can help job seekers and companies make more targeted decisions."
      ]
    },
    {
      "cell_type": "markdown",
      "metadata": {
        "id": "ZFv7NOTZUDuL"
      },
      "source": [
        "#### **Q4. Do remote AI/ML roles offer significantly different salaries compared to on-site or hybrid roles?**"
      ]
    },
    {
      "cell_type": "code",
      "execution_count": 41,
      "metadata": {
        "colab": {
          "base_uri": "https://localhost:8080/"
        },
        "id": "BL7A554u-8F6",
        "outputId": "f94efbf3-6a91-4402-fe1d-190cf7adf50f"
      },
      "outputs": [
        {
          "name": "stdout",
          "output_type": "stream",
          "text": [
            "Remote Salary: $nan  (95% CI: $nan – $nan)\n",
            "Onsite Salary: $nan  (95% CI: $nan – $nan)\n"
          ]
        }
      ],
      "source": [
        "import numpy as np\n",
        "import warnings\n",
        "\n",
        "# Suppress warnings\n",
        "warnings.filterwarnings(\"ignore\", category=RuntimeWarning)\n",
        "\n",
        "# Filter out missing values for remote and onsite roles\n",
        "remote = final_df_cleaned[final_df_cleaned['job_type'] == 'remote']['estimated_salary_usd'].dropna()\n",
        "onsite = final_df_cleaned[final_df_cleaned['job_type'] == 'onsite']['estimated_salary_usd'].dropna()\n",
        "\n",
        "# Bootstrap function\n",
        "def bootstrap_mean_ci(data, n_bootstrap=1000, ci=95):\n",
        "    means = []\n",
        "    for _ in range(n_bootstrap):\n",
        "        sample = np.random.choice(data, size=len(data), replace=True)\n",
        "        means.append(np.mean(sample))\n",
        "    lower = np.percentile(means, (100 - ci) / 2)\n",
        "    upper = np.percentile(means, 100 - (100 - ci) / 2)\n",
        "    return np.mean(means), (lower, upper)\n",
        "\n",
        "# Results\n",
        "mean_remote, ci_remote = bootstrap_mean_ci(remote)\n",
        "mean_onsite, ci_onsite = bootstrap_mean_ci(onsite)\n",
        "\n",
        "# Print Results\n",
        "print(f\"Remote Salary: ${mean_remote:.2f}  (95% CI: ${ci_remote[0]:.2f} – ${ci_remote[1]:.2f})\")\n",
        "print(f\"Onsite Salary: ${mean_onsite:.2f}  (95% CI: ${ci_onsite[0]:.2f} – ${ci_onsite[1]:.2f})\")\n"
      ]
    },
    {
      "cell_type": "markdown",
      "metadata": {
        "id": "eLEo4w3BHtGK"
      },
      "source": [
        "**Conclusion :** In our data, remote AI/ML jobs have the highest average salary compared to onsite roles. This shows that companies are willing to pay more to hire highly skilled professionals, no matter where they live. These remote jobs likely need people with strong experience and advanced knowledge, so employers offer higher pay to attract the best talent from anywhere."
      ]
    },
    {
      "cell_type": "markdown",
      "metadata": {
        "id": "8GNUk7AYUIot"
      },
      "source": [
        "#### **Q5. Which companies are the most active recruiters in the AI/ML space, and are their salary offerings above or below the industry average?**"
      ]
    },
    {
      "cell_type": "code",
      "execution_count": 42,
      "metadata": {
        "colab": {
          "base_uri": "https://localhost:8080/",
          "height": 461
        },
        "id": "0Z7GOIRzSMQf",
        "outputId": "7dd6c8df-2d59-49b7-8073-9040dee78f01"
      },
      "outputs": [
        {
          "data": {
            "image/png": "[encoded data removed]",
            "text/plain": [
              "<Figure size 1400x700 with 1 Axes>"
            ]
          },
          "metadata": {},
          "output_type": "display_data"
        }
      ],
      "source": [
        "import matplotlib.pyplot as plt\n",
        "import seaborn as sns\n",
        "import pandas as pd\n",
        "\n",
        "# Set plot style\n",
        "sns.set_theme(style=\"whitegrid\")\n",
        "\n",
        "# Calculate Industry Average Salary\n",
        "industry_avg_salary = final_df_cleaned['estimated_salary_usd'].mean()\n",
        "\n",
        "# Group by company and calculate average salary\n",
        "company_stats = final_df_cleaned.groupby('company')['estimated_salary_usd'].mean().reset_index()\n",
        "\n",
        "# Add a column to compare with the industry average salary\n",
        "company_stats['salary_vs_avg'] = company_stats['estimated_salary_usd'].apply(\n",
        "    lambda x: 'Above Average' if x > industry_avg_salary else 'Below Average'\n",
        ")\n",
        "\n",
        "# Count the number of job titles for each company (job count)\n",
        "company_job_count = final_df_cleaned.groupby('company')['job_title'].nunique().reset_index()\n",
        "company_job_count.rename(columns={'job_title': 'job_count'}, inplace=True)\n",
        "\n",
        "# Merge the job count with company_stats\n",
        "company_stats = company_stats.merge(company_job_count, on='company')\n",
        "\n",
        "# Sort top recruiters by job count (descending order)\n",
        "top_20 = company_stats.sort_values(by='job_count', ascending=False).head(20)\n",
        "\n",
        "# Create a color map based on salary comparison to industry average\n",
        "colors = top_20['salary_vs_avg'].map({'Above Average': '#2ecc71', 'Below Average': '#e74c3c'})\n",
        "\n",
        "# Plot\n",
        "plt.figure(figsize=(14, 7))\n",
        "\n",
        "# Create the bar plot\n",
        "bars = plt.bar(top_20['company'], top_20['estimated_salary_usd'], color=colors, edgecolor='black', linewidth=1.2)\n",
        "\n",
        "# Add average salary line\n",
        "plt.axhline(industry_avg_salary, color='blue', linestyle='--', label='Industry Avg Salary')\n",
        "\n",
        "# Annotate bars with actual salary values\n",
        "for bar in bars:\n",
        "    height = bar.get_height()\n",
        "    plt.text(bar.get_x() + bar.get_width() / 2, height + 2500, f\"${int(height):,}\",\n",
        "             ha='center', va='bottom', fontsize=9, fontweight='medium')\n",
        "\n",
        "# Labels & Title\n",
        "plt.title(\"Top 20 AI/ML Recruiting Companies\\n& How Their Avg Salaries Compare to Industry\", fontsize=16, weight='bold')\n",
        "plt.suptitle(\"Green = Above Industry Avg & Red = Below Industry Avg\", fontsize=10, color='gray', y=0.99)\n",
        "\n",
        "plt.xlabel(\"Company\", fontsize=12)\n",
        "plt.ylabel(\"Average Estimated Salary (USD)\", fontsize=12)\n",
        "plt.xticks(rotation=45, ha='right', fontsize=10)\n",
        "plt.yticks(fontsize=10)\n",
        "\n",
        "plt.legend()\n",
        "plt.tight_layout()\n",
        "plt.show()\n"
      ]
    },
    {
      "cell_type": "markdown",
      "metadata": {
        "id": "Ui1Jm5RgUM4W"
      },
      "source": [
        "**Conclusion :** The chart illustrates the average salaries offered by the top 20 AI/ML recruiting companies compared to the industry average. Most companies (14 out of 20) offer salaries above the industry average, with notable players like NVIDIA and Tesla offering highly competitive pay. However, a few companies such as Walmart and The Judge Group fall below the industry average, suggesting potential areas for improvement in their compensation strategies. Overall, AI/ML professionals should consider both salary levels and company reputation when evaluating job opportunities."
      ]
    },
    {
      "cell_type": "markdown",
      "metadata": {
        "id": "xmepWD8MUMtW"
      },
      "source": [
        "#### **Q6. What are the most commonly required technical skills in AI/ML job descriptions, and how do they vary by job title?**"
      ]
    },
    {
      "cell_type": "code",
      "execution_count": 43,
      "metadata": {
        "colab": {
          "base_uri": "https://localhost:8080/",
          "height": 649
        },
        "id": "eIshd4VFUlP3",
        "outputId": "f50f73cd-0284-4fae-9507-a3ac4e411a6b"
      },
      "outputs": [
        {
          "name": "stderr",
          "output_type": "stream",
          "text": [
            "/var/folders/41/f97k2tlx2xnftr7h0sg_bp4r0000gn/T/ipykernel_2570/2828296365.py:12: FutureWarning: \n",
            "\n",
            "Passing `palette` without assigning `hue` is deprecated and will be removed in v0.14.0. Assign the `y` variable to `hue` and set `legend=False` for the same effect.\n",
            "\n",
            "  sns.barplot(data=top_skills, x='Count', y='Skill', palette='viridis')\n"
          ]
        },
        {
          "data": {
            "image/png": "[encoded data removed]",
            "text/plain": [
              "<Figure size 1000x600 with 1 Axes>"
            ]
          },
          "metadata": {},
          "output_type": "display_data"
        }
      ],
      "source": [
        "skills_df = final_df_cleaned.copy()\n",
        "skills_df['skill'] = skills_df['job_skills'].str.split(', ')\n",
        "\n",
        "skills_df = skills_df.explode('skill')\n",
        "skills_df['skill'] = skills_df['skill'].str.lower().str.strip()\n",
        "\n",
        "top_skills = skills_df['skill'].value_counts().head(10).reset_index()\n",
        "top_skills.columns = ['Skill', 'Count']\n",
        "\n",
        "# Seaborn barplot\n",
        "plt.figure(figsize=(10,6))\n",
        "sns.barplot(data=top_skills, x='Count', y='Skill', palette='viridis')\n",
        "plt.title('Top 10 Most In-Demand Skills')\n",
        "plt.xlabel('Number of Job Postings')\n",
        "plt.ylabel('Skill')\n",
        "plt.tight_layout()\n",
        "plt.show()"
      ]
    },
    {
      "cell_type": "markdown",
      "metadata": {
        "id": "msNIytPoGyP9"
      },
      "source": [
        "**Conclusion:** This analysis revealed several key findings. Python and SQL clearly lead in demand, each appearing in over 3,500 postings, highlighting their critical role in data-related jobs. Other technical and soft skills like data analysis, machine learning, and communication also rank highly, showing that employers value a blend of coding ability, analytical thinking, and communication."
      ]
    },
    {
      "cell_type": "markdown",
      "metadata": {
        "id": "Beip_GB4UogD"
      },
      "source": [
        "#### **Q7. Is there a correlation between the number of listed skills in a job description and the offered salary?**"
      ]
    },
    {
      "cell_type": "code",
      "execution_count": 44,
      "metadata": {
        "colab": {
          "base_uri": "https://localhost:8080/",
          "height": 588
        },
        "id": "YGEcdXB2Ur_T",
        "outputId": "ada2fcfa-ad7d-473a-c229-5905d8dea60c"
      },
      "outputs": [
        {
          "name": "stdout",
          "output_type": "stream",
          "text": [
            "Pearson correlation coefficient between skill count and salary: 0.058149196942773\n"
          ]
        },
        {
          "data": {
            "image/png": "[encoded data removed]",
            "text/plain": [
              "<Figure size 1000x600 with 1 Axes>"
            ]
          },
          "metadata": {},
          "output_type": "display_data"
        }
      ],
      "source": [
        "# Calculate the number of skills per job posting\n",
        "final_df_cleaned['skill_count'] = final_df_cleaned['job_skills'].str.split(',').str.len()\n",
        "\n",
        "# Calculate the Pearson correlation coefficient\n",
        "correlation = final_df_cleaned['skill_count'].corr(final_df_cleaned['estimated_salary_usd'], method='pearson')\n",
        "\n",
        "print(f\"Pearson correlation coefficient between skill count and salary: {correlation}\")\n",
        "\n",
        "# Create the scatter plot (optional, but helpful for visualization)\n",
        "plt.figure(figsize=(10, 6))\n",
        "sns.regplot(x='skill_count', y='estimated_salary_usd', data=final_df_cleaned, scatter_kws={'alpha':0.5}, line_kws={\"color\": \"red\"})\n",
        "plt.title('Correlation between Number of Skills and Salary')\n",
        "plt.xlabel('Number of Skills')\n",
        "plt.ylabel('Estimated Salary (USD)')\n",
        "plt.grid(True, linestyle='--', alpha=0.7)\n",
        "plt.show()"
      ]
    },
    {
      "cell_type": "markdown",
      "metadata": {
        "id": "7D9Eqd4NIxAi"
      },
      "source": [
        "**Conclusion :** Based on the Pearson correlation coefficient (r ≈ 0.058), we observe a very weak positive correlation between the number of listed skills in a job posting and the offered salary. This suggests that simply listing more skills does not strongly influence salary levels in AI/ML roles.\n",
        "\n",
        "This insight aligns with industry expectations, where depth and relevance of specific technical skills (e.g., deep learning, cloud computing, MLOps) are more valued than the sheer number of tools mentioned.\n",
        "\n",
        "Therefore, the quality and specialization of skills play a bigger role in compensation than quantity, especially in high-paying, advanced AI/ML roles."
      ]
    },
    {
      "cell_type": "markdown",
      "metadata": {
        "id": "iwruWOFtUJuC"
      },
      "source": [
        "### 3.3 Final Application of Insights\n",
        "\n",
        "The insights from our analysis can be valuable to both job seekers and employers navigating the evolving data job market:\n",
        "\n",
        "- **For job seekers:**\n",
        "  \n",
        "  This analysis identifies the most in-demand skills (e.g., Python, SQL, machine learning) and job titles, helping candidates prioritize learning and tailor their resumes toward high-salary, high-demand roles. It also highlights the potential benefits of remote work, which appears to command slightly higher salaries on average.\n",
        "\n",
        "- **For employers and recruiters:**\n",
        "  \n",
        "  Companies can use our findings to benchmark salary offerings based on job title and experience level, ensuring competitive compensation to attract top talent. The geographic and job-level trends can guide targeted job postings and strategic hiring (e.g., focusing recruitment in regions with high interest or talent density).\n",
        "\n",
        "- **For future development:**\n",
        "  \n",
        "  These results could inform the creation of a dynamic job recommendation engine, a salary prediction model, or even educational program curricula designed to meet market demand.\n",
        "\n",
        "By aligning skills, compensation, and job structure, this project helps reduce the gap between what companies need and what job seekers offer."
      ]
    },
    {
      "cell_type": "markdown",
      "metadata": {
        "id": "d4s9QogtWOnO"
      },
      "source": [
        "### Thanks for listening — we’re **Sakshi Singh, Walker Oettl, and Raj Barai**, and we’d be happy to answer any questions!"
      ]
    },
    {
      "cell_type": "code",
      "execution_count": 46,
      "metadata": {},
      "outputs": [
        {
          "name": "stdout",
          "output_type": "stream",
          "text": [
            "Correlation of all numeric features with Salary:\n",
            "\n",
            "estimated_salary_usd    1.000000\n",
            "experience_encoded      0.134289\n",
            "job_level_encoded       0.134289\n",
            "skill_count             0.058149\n",
            "job_type_encoded        0.047328\n",
            "Name: estimated_salary_usd, dtype: float64\n"
          ]
        },
        {
          "data": {
            "image/png": "[encoded data removed]",
            "text/plain": [
              "<Figure size 800x600 with 1 Axes>"
            ]
          },
          "metadata": {},
          "output_type": "display_data"
        }
      ],
      "source": [
        "import pandas as pd\n",
        "import seaborn as sns\n",
        "import matplotlib.pyplot as plt\n",
        "\n",
        "# Copy the original DataFrame\n",
        "df_corr = final_df_cleaned.copy()\n",
        "\n",
        "# Encode categorical variables\n",
        "df_corr['experience_encoded'] = df_corr['experience_level_mapped'].map({'EN': 1, 'MI': 2, 'SE': 3, 'EX': 4})\n",
        "df_corr['job_type_encoded'] = df_corr['job_type'].map({'Remote': 1, 'Onsite': 0, 'Hybrid': 0.5})\n",
        "df_corr['job_level_encoded'] = df_corr['job_level'].map({'Entry': 1, 'Associate': 2, 'Mid senior': 3, 'Senior': 4})  # adjust labels as per your actual data\n",
        "\n",
        "# Keep only numeric columns\n",
        "numeric_df = df_corr.select_dtypes(include='number')\n",
        "\n",
        "# Compute correlation with salary\n",
        "correlations = numeric_df.corr()['estimated_salary_usd'].sort_values(ascending=False)\n",
        "\n",
        "# Print all correlations\n",
        "print(\"Correlation of all numeric features with Salary:\\n\")\n",
        "print(correlations)\n",
        "\n",
        "# Optional: visualize as barplot\n",
        "correlations.drop('estimated_salary_usd').plot(kind='barh', figsize=(8, 6), color='skyblue')\n",
        "plt.title('Correlation of Features with Estimated Salary')\n",
        "plt.xlabel('Correlation Coefficient')\n",
        "plt.tight_layout()\n",
        "plt.show()\n"
      ]
    }
  ],
  "metadata": {
    "colab": {
      "provenance": []
    },
    "kernelspec": {
      "display_name": "Python 3",
      "language": "python",
      "name": "python3"
    },
    "language_info": {
      "codemirror_mode": {
        "name": "ipython",
        "version": 3
      },
      "file_extension": ".py",
      "mimetype": "text/x-python",
      "name": "python",
      "nbconvert_exporter": "python",
      "pygments_lexer": "ipython3",
      "version": "3.13.2"
    }
  },
  "nbformat": 4,
  "nbformat_minor": 0
}
